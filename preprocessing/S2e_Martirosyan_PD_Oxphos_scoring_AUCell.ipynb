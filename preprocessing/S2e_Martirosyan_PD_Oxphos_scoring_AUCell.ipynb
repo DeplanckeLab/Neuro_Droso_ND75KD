{
 "cells": [
  {
   "attachments": {},
   "cell_type": "markdown",
   "id": "8442a84a-beb4-4b5d-b4f5-425e9cbf7613",
   "metadata": {},
   "source": [
    "# GSE243639 - Martirosyan - AUCell Oxphos scoring\n",
    "*This script is to be run before the Rmd script, for computing the AUC values with pySCENIC* \n",
    "\n",
    "**Author:** Vincent Gardeux\n",
    "\n",
    "**Date Created:** 27/02/2025\n",
    "**Date Last Modified:** 27/02/2025"
   ]
  },
  {
   "cell_type": "code",
   "execution_count": 1,
   "id": "74ceeacd-020d-4f8f-9d2e-1a076f326eaf",
   "metadata": {},
   "outputs": [],
   "source": [
    "# import dependencies\n",
    "import pandas as pd\n",
    "import polars as pl\n",
    "import numpy as np\n",
    "from ctxcore.genesig import GeneSignature\n",
    "from pyscenic.aucell import create_rankings, enrichment"
   ]
  },
  {
   "cell_type": "code",
   "execution_count": 2,
   "id": "e8c0d22b",
   "metadata": {},
   "outputs": [],
   "source": [
    "GENE_SIGNATURE_FNAME = '/data/gardeux/Neuro_Droso_ND75KD/data/oxphos_genes_KEGG_hsa.txt' # From https://www.genome.jp/entry/hsa00190\n",
    "GENE_SIGNATURE_SNAME = '135 (+1) OXPHOS genes' # 1 is not present in Martirosyan's data\n",
    "EXPRESSION_MTX_FNAME = '/data/gardeux/Neuro_Droso_ND75KD/data/Martirosyan_2024/GSE243639_Filtered_count_table.csv.gz' # From https://www.ncbi.nlm.nih.gov/geo/query/acc.cgi?acc=GSE243639"
   ]
  },
  {
   "cell_type": "code",
   "execution_count": 3,
   "id": "f72fb6da",
   "metadata": {},
   "outputs": [
    {
     "data": {
      "text/plain": [
       "GeneSignature(name='KEGG hsa00190 - Oxidative phosphorylation', gene2weight=frozendict.frozendict({'MT-ND1': 1.0, 'MT-ND2': 1.0, 'MT-ND3': 1.0, 'MT-ND4': 1.0, 'MT-ND4L': 1.0, 'MT-ND5': 1.0, 'MT-ND6': 1.0, 'NDUFS1': 1.0, 'NDUFS2': 1.0, 'NDUFS3': 1.0, 'NDUFS4': 1.0, 'NDUFS5': 1.0, 'NDUFS6': 1.0, 'NDUFS7': 1.0, 'NDUFS8': 1.0, 'NDUFV1': 1.0, 'NDUFV2': 1.0, 'NDUFV3': 1.0, 'NDUFA1': 1.0, 'NDUFA2': 1.0, 'NDUFA3': 1.0, 'NDUFA4': 1.0, 'NDUFA4L2': 1.0, 'NDUFA5': 1.0, 'NDUFA6': 1.0, 'NDUFA7': 1.0, 'NDUFA8': 1.0, 'NDUFA9': 1.0, 'NDUFA10': 1.0, 'NDUFAB1': 1.0, 'NDUFA11': 1.0, 'NDUFA12': 1.0, 'NDUFA13': 1.0, 'NDUFB1': 1.0, 'NDUFB2': 1.0, 'NDUFB3': 1.0, 'NDUFB4': 1.0, 'NDUFB5': 1.0, 'NDUFB6': 1.0, 'NDUFB7': 1.0, 'NDUFB8': 1.0, 'NDUFB9': 1.0, 'NDUFB10': 1.0, 'NDUFB11': 1.0, 'NDUFC1': 1.0, 'NDUFC2-KCTD14': 1.0, 'NDUFC2': 1.0, 'SDHA': 1.0, 'SDHB': 1.0, 'SDHC': 1.0, 'SDHD': 1.0, 'UQCRFS1': 1.0, 'MT-CYB': 1.0, 'CYC1': 1.0, 'UQCRC1': 1.0, 'UQCRC2': 1.0, 'UQCRHL': 1.0, 'UQCRH': 1.0, 'UQCRB': 1.0, 'UQCRQ': 1.0, 'UQCR10': 1.0, 'UQCR11': 1.0, 'COX10': 1.0, 'MT-CO3': 1.0, 'MT-CO1': 1.0, 'MT-CO2': 1.0, 'COX4I1': 1.0, 'COX4I2': 1.0, 'COX5A': 1.0, 'COX5B': 1.0, 'COX6A1': 1.0, 'COX6A2': 1.0, 'COX6B2': 1.0, 'COX6B1': 1.0, 'COX6C': 1.0, 'COX7A1': 1.0, 'COX7A2': 1.0, 'COX7A2L': 1.0, 'COX7B': 1.0, 'COX7B2': 1.0, 'COX7C': 1.0, 'COX8A': 1.0, 'COX8C': 1.0, 'COX11': 1.0, 'COX15': 1.0, 'COX17': 1.0, 'CYCS': 1.0, 'ATP5F1A': 1.0, 'ATP5F1B': 1.0, 'ATP5F1C': 1.0, 'ATP5F1D': 1.0, 'ATP5F1E': 1.0, 'ATP5PO': 1.0, 'MT-ATP6': 1.0, 'ATP5PB': 1.0, 'ATP5MC1': 1.0, 'ATP5MC2': 1.0, 'ATP5MC3': 1.0, 'ATP5PD': 1.0, 'ATP5ME': 1.0, 'ATP5MF': 1.0, 'ATP5MG': 1.0, 'ATP5MGL': 1.0, 'ATP5PF': 1.0, 'MT-ATP8': 1.0, 'ATP6V1A': 1.0, 'ATP6V1B1': 1.0, 'ATP6V1B2': 1.0, 'ATP6V1C2': 1.0, 'ATP6V1C1': 1.0, 'ATP6V1D': 1.0, 'ATP6V1E1': 1.0, 'ATP6V1E2': 1.0, 'ATP6V1FP2': 1.0, 'ATP6V1F': 1.0, 'ATP6V1G3': 1.0, 'ATP6V1G2': 1.0, 'ATP6V1G1': 1.0, 'ATP6V1H': 1.0, 'TCIRG1': 1.0, 'ATP6V0A2': 1.0, 'ATP6V0A4': 1.0, 'ATP6V0A1': 1.0, 'ATP6V0C': 1.0, 'ATP6V0B': 1.0, 'ATP6V0D2': 1.0, 'ATP6V0D1': 1.0, 'ATP6V0E2': 1.0, 'ATP6V0E1': 1.0, 'ATP6AP1': 1.0, 'ATP4A': 1.0, 'ATP4B': 1.0, 'ATP12A': 1.0, 'PPA2': 1.0, 'PPA1': 1.0, 'LHPP': 1.0}))"
      ]
     },
     "execution_count": 3,
     "metadata": {},
     "output_type": "execute_result"
    }
   ],
   "source": [
    "data_genes = pd.read_csv(filepath_or_buffer=GENE_SIGNATURE_FNAME, header=None)[0].tolist()\n",
    "gs = GeneSignature('KEGG hsa00190 - Oxidative phosphorylation', data_genes)\n",
    "gs"
   ]
  },
  {
   "cell_type": "code",
   "execution_count": 4,
   "id": "76cf3643-b72c-4da2-85bd-a80eede5d187",
   "metadata": {},
   "outputs": [
    {
     "data": {
      "text/plain": [
       "136"
      ]
     },
     "execution_count": 4,
     "metadata": {},
     "output_type": "execute_result"
    }
   ],
   "source": [
    "len(gs)"
   ]
  },
  {
   "cell_type": "code",
   "execution_count": 5,
   "id": "5dd9a0a4-1c41-4c88-9c96-577d6dd343d8",
   "metadata": {},
   "outputs": [
    {
     "data": {
      "text/html": [
       "<div><style>\n",
       ".dataframe > thead > tr,\n",
       ".dataframe > tbody > tr {\n",
       "  text-align: right;\n",
       "  white-space: pre-wrap;\n",
       "}\n",
       "</style>\n",
       "<small>shape: (33_537, 83_485)</small><table border=\"1\" class=\"dataframe\"><thead><tr><th></th><th>s.0096_AAACCCAAGTACGAGC.1</th><th>s.0096_AAACCCACACAGCGCT.1</th><th>s.0096_AAACCCACAGATAAAC.1</th><th>s.0096_AAACCCAGTCCGGATC.1</th><th>s.0096_AAACCCAGTCTCTCAC.1</th><th>s.0096_AAACCCAGTGAATTGA.1</th><th>s.0096_AAACCCAGTTTACGAC.1</th><th>s.0096_AAACCCATCATGGAGG.1</th><th>s.0096_AAACCCATCCGTGCGA.1</th><th>s.0096_AAACCCATCGCGAAGA.1</th><th>s.0096_AAACCCATCTCCTGTG.1</th><th>s.0096_AAACGAACAATCGCGC.1</th><th>s.0096_AAACGAACACGGTGTC.1</th><th>s.0096_AAACGAATCACATCAG.1</th><th>s.0096_AAACGAATCTACCCAC.1</th><th>s.0096_AAACGCTAGACGACTG.1</th><th>s.0096_AAACGCTCATCGGTTA.1</th><th>s.0096_AAACGCTTCACGAACT.1</th><th>s.0096_AAACGCTTCGGAGTAG.1</th><th>s.0096_AAAGAACAGAGTTGTA.1</th><th>s.0096_AAAGAACCATAATCGC.1</th><th>s.0096_AAAGGATAGACGATAT.1</th><th>s.0096_AAAGGATAGTAAAGCT.1</th><th>s.0096_AAAGGATCACGACAGA.1</th><th>s.0096_AAAGGATGTAACGGTG.1</th><th>s.0096_AAAGGATGTAGCTGTT.1</th><th>s.0096_AAAGGATTCACAAGAA.1</th><th>s.0096_AAAGGGCAGGCCTTGC.1</th><th>s.0096_AAAGGGCCAAGACGAC.1</th><th>s.0096_AAAGGGCGTCGTTCAA.1</th><th>s.0096_AAAGGTAAGACTTAAG.1</th><th>s.0096_AAAGGTAGTATCTTCT.1</th><th>s.0096_AAAGGTATCGCGATCG.1</th><th>s.0096_AAAGTCCAGAAATGGG.1</th><th>s.0096_AAAGTCCAGATACCAA.1</th><th>s.0096_AAAGTCCAGCATCTTG.1</th><th>&hellip;</th><th>s.0165_TTTACTGCATTGCTGA.1</th><th>s.0165_TTTACTGTCTGGTGGC.1</th><th>s.0165_TTTAGTCCAAGCGCAA.1</th><th>s.0165_TTTAGTCCAATAGTCC.1</th><th>s.0165_TTTAGTCTCCCAACTC.1</th><th>s.0165_TTTAGTCTCGGAAGGT.1</th><th>s.0165_TTTATGCTCCGTAGTA.1</th><th>s.0165_TTTCACAAGGGCCAAT.1</th><th>s.0165_TTTCACAAGTCACTGT.1</th><th>s.0165_TTTCACACAAAGGCTG.1</th><th>s.0165_TTTCAGTAGGATACCG.1</th><th>s.0165_TTTCAGTAGGTTTGAA.1</th><th>s.0165_TTTCAGTGTCTTCCGT.1</th><th>s.0165_TTTCATGAGAGATTCA.1</th><th>s.0165_TTTCATGAGCGACTGA.1</th><th>s.0165_TTTCATGAGGGACCAT.1</th><th>s.0165_TTTCATGCACCAGCCA.1</th><th>s.0165_TTTCATGTCGCCTCTA.1</th><th>s.0165_TTTCATGTCGGCATTA.1</th><th>s.0165_TTTCCTCTCGTTGTAG.1</th><th>s.0165_TTTCGATCATCAGCGC.1</th><th>s.0165_TTTCGATTCGGTCATA.1</th><th>s.0165_TTTGACTAGAGCATAT.1</th><th>s.0165_TTTGACTCAATGTCTG.1</th><th>s.0165_TTTGACTGTGATTCTG.1</th><th>s.0165_TTTGACTTCCATCTCG.1</th><th>s.0165_TTTGATCAGGTCCGAA.1</th><th>s.0165_TTTGATCCAGAGGTTG.1</th><th>s.0165_TTTGGTTAGCGCCTTG.1</th><th>s.0165_TTTGGTTCAAACTAAG.1</th><th>s.0165_TTTGGTTCATGCCGGT.1</th><th>s.0165_TTTGGTTGTAGAGATT.1</th><th>s.0165_TTTGGTTTCCGCCTAT.1</th><th>s.0165_TTTGGTTTCTCGTTTA.1</th><th>s.0165_TTTGTTGCAAGTTCGT.1</th><th>s.0165_TTTGTTGCATGTTCAG.1</th><th>s.0165_TTTGTTGCATTACTCT.1</th></tr><tr><td>str</td><td>i64</td><td>i64</td><td>i64</td><td>i64</td><td>i64</td><td>i64</td><td>i64</td><td>i64</td><td>i64</td><td>i64</td><td>i64</td><td>i64</td><td>i64</td><td>i64</td><td>i64</td><td>i64</td><td>i64</td><td>i64</td><td>i64</td><td>i64</td><td>i64</td><td>i64</td><td>i64</td><td>i64</td><td>i64</td><td>i64</td><td>i64</td><td>i64</td><td>i64</td><td>i64</td><td>i64</td><td>i64</td><td>i64</td><td>i64</td><td>i64</td><td>i64</td><td>&hellip;</td><td>i64</td><td>i64</td><td>i64</td><td>i64</td><td>i64</td><td>i64</td><td>i64</td><td>i64</td><td>i64</td><td>i64</td><td>i64</td><td>i64</td><td>i64</td><td>i64</td><td>i64</td><td>i64</td><td>i64</td><td>i64</td><td>i64</td><td>i64</td><td>i64</td><td>i64</td><td>i64</td><td>i64</td><td>i64</td><td>i64</td><td>i64</td><td>i64</td><td>i64</td><td>i64</td><td>i64</td><td>i64</td><td>i64</td><td>i64</td><td>i64</td><td>i64</td><td>i64</td></tr></thead><tbody><tr><td>&quot;MIR1302-2HG&quot;</td><td>0</td><td>0</td><td>0</td><td>0</td><td>0</td><td>0</td><td>0</td><td>0</td><td>0</td><td>0</td><td>0</td><td>0</td><td>0</td><td>0</td><td>0</td><td>0</td><td>0</td><td>0</td><td>0</td><td>0</td><td>0</td><td>0</td><td>0</td><td>0</td><td>0</td><td>0</td><td>0</td><td>0</td><td>0</td><td>0</td><td>0</td><td>0</td><td>0</td><td>0</td><td>0</td><td>0</td><td>&hellip;</td><td>0</td><td>0</td><td>0</td><td>0</td><td>0</td><td>0</td><td>0</td><td>0</td><td>0</td><td>0</td><td>0</td><td>0</td><td>0</td><td>0</td><td>0</td><td>0</td><td>0</td><td>0</td><td>0</td><td>0</td><td>0</td><td>0</td><td>0</td><td>0</td><td>0</td><td>0</td><td>0</td><td>0</td><td>0</td><td>0</td><td>0</td><td>0</td><td>0</td><td>0</td><td>0</td><td>0</td><td>0</td></tr><tr><td>&quot;FAM138A&quot;</td><td>0</td><td>0</td><td>0</td><td>0</td><td>0</td><td>0</td><td>0</td><td>0</td><td>0</td><td>0</td><td>0</td><td>0</td><td>0</td><td>0</td><td>0</td><td>0</td><td>0</td><td>0</td><td>0</td><td>0</td><td>0</td><td>0</td><td>0</td><td>0</td><td>0</td><td>0</td><td>0</td><td>0</td><td>0</td><td>0</td><td>0</td><td>0</td><td>0</td><td>0</td><td>0</td><td>0</td><td>&hellip;</td><td>0</td><td>0</td><td>0</td><td>0</td><td>0</td><td>0</td><td>0</td><td>0</td><td>0</td><td>0</td><td>0</td><td>0</td><td>0</td><td>0</td><td>0</td><td>0</td><td>0</td><td>0</td><td>0</td><td>0</td><td>0</td><td>0</td><td>0</td><td>0</td><td>0</td><td>0</td><td>0</td><td>0</td><td>0</td><td>0</td><td>0</td><td>0</td><td>0</td><td>0</td><td>0</td><td>0</td><td>0</td></tr><tr><td>&quot;OR4F5&quot;</td><td>0</td><td>0</td><td>0</td><td>0</td><td>0</td><td>0</td><td>0</td><td>0</td><td>0</td><td>0</td><td>0</td><td>0</td><td>0</td><td>0</td><td>0</td><td>0</td><td>0</td><td>0</td><td>0</td><td>0</td><td>0</td><td>0</td><td>0</td><td>0</td><td>0</td><td>0</td><td>0</td><td>0</td><td>0</td><td>0</td><td>0</td><td>0</td><td>0</td><td>0</td><td>0</td><td>0</td><td>&hellip;</td><td>0</td><td>0</td><td>0</td><td>0</td><td>0</td><td>0</td><td>0</td><td>0</td><td>0</td><td>0</td><td>0</td><td>0</td><td>0</td><td>0</td><td>0</td><td>0</td><td>0</td><td>0</td><td>0</td><td>0</td><td>0</td><td>0</td><td>0</td><td>0</td><td>0</td><td>0</td><td>0</td><td>0</td><td>0</td><td>0</td><td>0</td><td>0</td><td>0</td><td>0</td><td>0</td><td>0</td><td>0</td></tr><tr><td>&quot;AL627309.1&quot;</td><td>0</td><td>0</td><td>0</td><td>0</td><td>0</td><td>0</td><td>0</td><td>0</td><td>0</td><td>0</td><td>0</td><td>0</td><td>0</td><td>0</td><td>0</td><td>0</td><td>0</td><td>0</td><td>0</td><td>0</td><td>0</td><td>0</td><td>0</td><td>0</td><td>0</td><td>0</td><td>0</td><td>0</td><td>0</td><td>0</td><td>0</td><td>0</td><td>0</td><td>0</td><td>0</td><td>0</td><td>&hellip;</td><td>0</td><td>0</td><td>0</td><td>0</td><td>0</td><td>0</td><td>0</td><td>0</td><td>0</td><td>0</td><td>0</td><td>0</td><td>0</td><td>0</td><td>0</td><td>0</td><td>0</td><td>0</td><td>0</td><td>0</td><td>0</td><td>0</td><td>0</td><td>0</td><td>0</td><td>0</td><td>0</td><td>0</td><td>0</td><td>0</td><td>0</td><td>0</td><td>0</td><td>0</td><td>0</td><td>0</td><td>0</td></tr><tr><td>&quot;AL627309.3&quot;</td><td>0</td><td>0</td><td>0</td><td>0</td><td>0</td><td>0</td><td>0</td><td>0</td><td>0</td><td>0</td><td>0</td><td>0</td><td>0</td><td>0</td><td>0</td><td>0</td><td>0</td><td>0</td><td>0</td><td>0</td><td>0</td><td>0</td><td>0</td><td>0</td><td>0</td><td>0</td><td>0</td><td>0</td><td>0</td><td>0</td><td>0</td><td>0</td><td>0</td><td>0</td><td>0</td><td>0</td><td>&hellip;</td><td>0</td><td>0</td><td>0</td><td>0</td><td>0</td><td>0</td><td>0</td><td>0</td><td>0</td><td>0</td><td>0</td><td>0</td><td>0</td><td>0</td><td>0</td><td>0</td><td>0</td><td>0</td><td>0</td><td>0</td><td>0</td><td>0</td><td>0</td><td>0</td><td>0</td><td>0</td><td>0</td><td>0</td><td>0</td><td>0</td><td>0</td><td>0</td><td>0</td><td>0</td><td>0</td><td>0</td><td>0</td></tr><tr><td>&hellip;</td><td>&hellip;</td><td>&hellip;</td><td>&hellip;</td><td>&hellip;</td><td>&hellip;</td><td>&hellip;</td><td>&hellip;</td><td>&hellip;</td><td>&hellip;</td><td>&hellip;</td><td>&hellip;</td><td>&hellip;</td><td>&hellip;</td><td>&hellip;</td><td>&hellip;</td><td>&hellip;</td><td>&hellip;</td><td>&hellip;</td><td>&hellip;</td><td>&hellip;</td><td>&hellip;</td><td>&hellip;</td><td>&hellip;</td><td>&hellip;</td><td>&hellip;</td><td>&hellip;</td><td>&hellip;</td><td>&hellip;</td><td>&hellip;</td><td>&hellip;</td><td>&hellip;</td><td>&hellip;</td><td>&hellip;</td><td>&hellip;</td><td>&hellip;</td><td>&hellip;</td><td>&hellip;</td><td>&hellip;</td><td>&hellip;</td><td>&hellip;</td><td>&hellip;</td><td>&hellip;</td><td>&hellip;</td><td>&hellip;</td><td>&hellip;</td><td>&hellip;</td><td>&hellip;</td><td>&hellip;</td><td>&hellip;</td><td>&hellip;</td><td>&hellip;</td><td>&hellip;</td><td>&hellip;</td><td>&hellip;</td><td>&hellip;</td><td>&hellip;</td><td>&hellip;</td><td>&hellip;</td><td>&hellip;</td><td>&hellip;</td><td>&hellip;</td><td>&hellip;</td><td>&hellip;</td><td>&hellip;</td><td>&hellip;</td><td>&hellip;</td><td>&hellip;</td><td>&hellip;</td><td>&hellip;</td><td>&hellip;</td><td>&hellip;</td><td>&hellip;</td><td>&hellip;</td><td>&hellip;</td></tr><tr><td>&quot;AC233755.2&quot;</td><td>0</td><td>0</td><td>0</td><td>0</td><td>0</td><td>0</td><td>0</td><td>0</td><td>0</td><td>0</td><td>0</td><td>0</td><td>0</td><td>0</td><td>0</td><td>0</td><td>0</td><td>0</td><td>0</td><td>0</td><td>0</td><td>0</td><td>0</td><td>0</td><td>0</td><td>0</td><td>0</td><td>0</td><td>0</td><td>0</td><td>0</td><td>0</td><td>0</td><td>0</td><td>0</td><td>0</td><td>&hellip;</td><td>0</td><td>0</td><td>0</td><td>0</td><td>0</td><td>0</td><td>0</td><td>0</td><td>0</td><td>0</td><td>0</td><td>0</td><td>0</td><td>0</td><td>0</td><td>0</td><td>0</td><td>0</td><td>0</td><td>0</td><td>0</td><td>0</td><td>0</td><td>0</td><td>0</td><td>0</td><td>0</td><td>0</td><td>0</td><td>0</td><td>0</td><td>0</td><td>0</td><td>0</td><td>0</td><td>0</td><td>0</td></tr><tr><td>&quot;AC233755.1&quot;</td><td>0</td><td>0</td><td>0</td><td>0</td><td>0</td><td>0</td><td>0</td><td>0</td><td>0</td><td>0</td><td>0</td><td>0</td><td>0</td><td>0</td><td>0</td><td>0</td><td>0</td><td>0</td><td>0</td><td>0</td><td>0</td><td>0</td><td>0</td><td>0</td><td>0</td><td>0</td><td>0</td><td>0</td><td>0</td><td>0</td><td>0</td><td>0</td><td>0</td><td>0</td><td>0</td><td>0</td><td>&hellip;</td><td>0</td><td>0</td><td>0</td><td>0</td><td>0</td><td>0</td><td>0</td><td>0</td><td>0</td><td>0</td><td>0</td><td>0</td><td>0</td><td>0</td><td>0</td><td>0</td><td>0</td><td>0</td><td>0</td><td>0</td><td>0</td><td>0</td><td>0</td><td>0</td><td>0</td><td>0</td><td>0</td><td>0</td><td>0</td><td>0</td><td>0</td><td>0</td><td>0</td><td>0</td><td>0</td><td>0</td><td>0</td></tr><tr><td>&quot;AC240274.1&quot;</td><td>0</td><td>0</td><td>0</td><td>0</td><td>0</td><td>0</td><td>0</td><td>0</td><td>0</td><td>0</td><td>0</td><td>1</td><td>0</td><td>0</td><td>0</td><td>0</td><td>0</td><td>0</td><td>0</td><td>0</td><td>0</td><td>0</td><td>0</td><td>0</td><td>0</td><td>0</td><td>0</td><td>0</td><td>0</td><td>0</td><td>0</td><td>0</td><td>0</td><td>0</td><td>0</td><td>0</td><td>&hellip;</td><td>0</td><td>0</td><td>0</td><td>0</td><td>0</td><td>0</td><td>0</td><td>0</td><td>0</td><td>0</td><td>0</td><td>0</td><td>0</td><td>0</td><td>0</td><td>0</td><td>0</td><td>0</td><td>0</td><td>0</td><td>0</td><td>0</td><td>0</td><td>0</td><td>0</td><td>1</td><td>0</td><td>0</td><td>0</td><td>0</td><td>0</td><td>0</td><td>0</td><td>0</td><td>0</td><td>0</td><td>0</td></tr><tr><td>&quot;AC213203.1&quot;</td><td>0</td><td>0</td><td>0</td><td>0</td><td>0</td><td>0</td><td>0</td><td>0</td><td>0</td><td>0</td><td>0</td><td>0</td><td>0</td><td>0</td><td>0</td><td>0</td><td>0</td><td>0</td><td>0</td><td>0</td><td>0</td><td>0</td><td>0</td><td>0</td><td>0</td><td>0</td><td>0</td><td>0</td><td>0</td><td>0</td><td>0</td><td>0</td><td>0</td><td>0</td><td>0</td><td>0</td><td>&hellip;</td><td>0</td><td>0</td><td>0</td><td>0</td><td>0</td><td>0</td><td>0</td><td>0</td><td>0</td><td>0</td><td>0</td><td>0</td><td>0</td><td>0</td><td>0</td><td>0</td><td>0</td><td>0</td><td>0</td><td>0</td><td>0</td><td>0</td><td>0</td><td>0</td><td>0</td><td>0</td><td>0</td><td>0</td><td>0</td><td>0</td><td>0</td><td>0</td><td>0</td><td>0</td><td>0</td><td>0</td><td>0</td></tr><tr><td>&quot;FAM231C&quot;</td><td>0</td><td>0</td><td>0</td><td>0</td><td>0</td><td>0</td><td>0</td><td>0</td><td>0</td><td>0</td><td>0</td><td>0</td><td>0</td><td>0</td><td>0</td><td>0</td><td>0</td><td>0</td><td>0</td><td>0</td><td>0</td><td>0</td><td>0</td><td>0</td><td>0</td><td>0</td><td>0</td><td>0</td><td>0</td><td>0</td><td>0</td><td>0</td><td>0</td><td>0</td><td>0</td><td>0</td><td>&hellip;</td><td>0</td><td>0</td><td>0</td><td>0</td><td>0</td><td>0</td><td>0</td><td>0</td><td>0</td><td>0</td><td>0</td><td>0</td><td>0</td><td>0</td><td>0</td><td>0</td><td>0</td><td>0</td><td>0</td><td>0</td><td>0</td><td>0</td><td>0</td><td>0</td><td>0</td><td>0</td><td>0</td><td>0</td><td>0</td><td>0</td><td>0</td><td>0</td><td>0</td><td>0</td><td>0</td><td>0</td><td>0</td></tr></tbody></table></div>"
      ],
      "text/plain": [
       "shape: (33_537, 83_485)\n",
       "┌───────────┬───────────┬───────────┬───────────┬───┬───────────┬───────────┬───────────┬──────────┐\n",
       "│           ┆ s.0096_AA ┆ s.0096_AA ┆ s.0096_AA ┆ … ┆ s.0165_TT ┆ s.0165_TT ┆ s.0165_TT ┆ s.0165_T │\n",
       "│ ---       ┆ ACCCAAGTA ┆ ACCCACACA ┆ ACCCACAGA ┆   ┆ TGGTTTCTC ┆ TGTTGCAAG ┆ TGTTGCATG ┆ TTGTTGCA │\n",
       "│ str       ┆ CGAGC.1   ┆ GCGCT.1   ┆ TAAAC.1   ┆   ┆ GTTTA.1   ┆ TTCGT.1   ┆ TTCAG.1   ┆ TTACTCT. │\n",
       "│           ┆ ---       ┆ ---       ┆ ---       ┆   ┆ ---       ┆ ---       ┆ ---       ┆ 1        │\n",
       "│           ┆ i64       ┆ i64       ┆ i64       ┆   ┆ i64       ┆ i64       ┆ i64       ┆ ---      │\n",
       "│           ┆           ┆           ┆           ┆   ┆           ┆           ┆           ┆ i64      │\n",
       "╞═══════════╪═══════════╪═══════════╪═══════════╪═══╪═══════════╪═══════════╪═══════════╪══════════╡\n",
       "│ MIR1302-2 ┆ 0         ┆ 0         ┆ 0         ┆ … ┆ 0         ┆ 0         ┆ 0         ┆ 0        │\n",
       "│ HG        ┆           ┆           ┆           ┆   ┆           ┆           ┆           ┆          │\n",
       "│ FAM138A   ┆ 0         ┆ 0         ┆ 0         ┆ … ┆ 0         ┆ 0         ┆ 0         ┆ 0        │\n",
       "│ OR4F5     ┆ 0         ┆ 0         ┆ 0         ┆ … ┆ 0         ┆ 0         ┆ 0         ┆ 0        │\n",
       "│ AL627309. ┆ 0         ┆ 0         ┆ 0         ┆ … ┆ 0         ┆ 0         ┆ 0         ┆ 0        │\n",
       "│ 1         ┆           ┆           ┆           ┆   ┆           ┆           ┆           ┆          │\n",
       "│ AL627309. ┆ 0         ┆ 0         ┆ 0         ┆ … ┆ 0         ┆ 0         ┆ 0         ┆ 0        │\n",
       "│ 3         ┆           ┆           ┆           ┆   ┆           ┆           ┆           ┆          │\n",
       "│ …         ┆ …         ┆ …         ┆ …         ┆ … ┆ …         ┆ …         ┆ …         ┆ …        │\n",
       "│ AC233755. ┆ 0         ┆ 0         ┆ 0         ┆ … ┆ 0         ┆ 0         ┆ 0         ┆ 0        │\n",
       "│ 2         ┆           ┆           ┆           ┆   ┆           ┆           ┆           ┆          │\n",
       "│ AC233755. ┆ 0         ┆ 0         ┆ 0         ┆ … ┆ 0         ┆ 0         ┆ 0         ┆ 0        │\n",
       "│ 1         ┆           ┆           ┆           ┆   ┆           ┆           ┆           ┆          │\n",
       "│ AC240274. ┆ 0         ┆ 0         ┆ 0         ┆ … ┆ 0         ┆ 0         ┆ 0         ┆ 0        │\n",
       "│ 1         ┆           ┆           ┆           ┆   ┆           ┆           ┆           ┆          │\n",
       "│ AC213203. ┆ 0         ┆ 0         ┆ 0         ┆ … ┆ 0         ┆ 0         ┆ 0         ┆ 0        │\n",
       "│ 1         ┆           ┆           ┆           ┆   ┆           ┆           ┆           ┆          │\n",
       "│ FAM231C   ┆ 0         ┆ 0         ┆ 0         ┆ … ┆ 0         ┆ 0         ┆ 0         ┆ 0        │\n",
       "└───────────┴───────────┴───────────┴───────────┴───┴───────────┴───────────┴───────────┴──────────┘"
      ]
     },
     "execution_count": 5,
     "metadata": {},
     "output_type": "execute_result"
    }
   ],
   "source": [
    "# Open CSV count matrix\n",
    "m = pl.read_csv(EXPRESSION_MTX_FNAME)\n",
    "\n",
    "# Extract gene names (first column) and cell names (column headers)\n",
    "gene_names = m[:, 0].to_list()  # First column as list of strings\n",
    "cell_names = m.columns[1:]      # Column names (excluding first column)\n",
    "\n",
    "m"
   ]
  },
  {
   "cell_type": "code",
   "execution_count": 6,
   "id": "abab122e",
   "metadata": {},
   "outputs": [
    {
     "data": {
      "text/plain": [
       "(33537, 83485)"
      ]
     },
     "execution_count": 6,
     "metadata": {},
     "output_type": "execute_result"
    }
   ],
   "source": [
    "m.shape"
   ]
  },
  {
   "cell_type": "code",
   "execution_count": 7,
   "id": "64a72090",
   "metadata": {},
   "outputs": [
    {
     "data": {
      "text/plain": [
       "83484"
      ]
     },
     "execution_count": 7,
     "metadata": {},
     "output_type": "execute_result"
    }
   ],
   "source": [
    "len(cell_names)"
   ]
  },
  {
   "cell_type": "code",
   "execution_count": 8,
   "id": "774324a4",
   "metadata": {},
   "outputs": [
    {
     "data": {
      "text/plain": [
       "33537"
      ]
     },
     "execution_count": 8,
     "metadata": {},
     "output_type": "execute_result"
    }
   ],
   "source": [
    "len(gene_names)"
   ]
  },
  {
   "cell_type": "code",
   "execution_count": 9,
   "id": "e490973f",
   "metadata": {},
   "outputs": [
    {
     "data": {
      "text/html": [
       "<div>\n",
       "<style scoped>\n",
       "    .dataframe tbody tr th:only-of-type {\n",
       "        vertical-align: middle;\n",
       "    }\n",
       "\n",
       "    .dataframe tbody tr th {\n",
       "        vertical-align: top;\n",
       "    }\n",
       "\n",
       "    .dataframe thead th {\n",
       "        text-align: right;\n",
       "    }\n",
       "</style>\n",
       "<table border=\"1\" class=\"dataframe\">\n",
       "  <thead>\n",
       "    <tr style=\"text-align: right;\">\n",
       "      <th></th>\n",
       "      <th>s.0096_AAACCCAAGTACGAGC.1</th>\n",
       "      <th>s.0096_AAACCCACACAGCGCT.1</th>\n",
       "      <th>s.0096_AAACCCACAGATAAAC.1</th>\n",
       "      <th>s.0096_AAACCCAGTCCGGATC.1</th>\n",
       "      <th>s.0096_AAACCCAGTCTCTCAC.1</th>\n",
       "      <th>s.0096_AAACCCAGTGAATTGA.1</th>\n",
       "      <th>s.0096_AAACCCAGTTTACGAC.1</th>\n",
       "      <th>s.0096_AAACCCATCATGGAGG.1</th>\n",
       "      <th>s.0096_AAACCCATCCGTGCGA.1</th>\n",
       "      <th>s.0096_AAACCCATCGCGAAGA.1</th>\n",
       "      <th>...</th>\n",
       "      <th>s.0165_TTTGATCCAGAGGTTG.1</th>\n",
       "      <th>s.0165_TTTGGTTAGCGCCTTG.1</th>\n",
       "      <th>s.0165_TTTGGTTCAAACTAAG.1</th>\n",
       "      <th>s.0165_TTTGGTTCATGCCGGT.1</th>\n",
       "      <th>s.0165_TTTGGTTGTAGAGATT.1</th>\n",
       "      <th>s.0165_TTTGGTTTCCGCCTAT.1</th>\n",
       "      <th>s.0165_TTTGGTTTCTCGTTTA.1</th>\n",
       "      <th>s.0165_TTTGTTGCAAGTTCGT.1</th>\n",
       "      <th>s.0165_TTTGTTGCATGTTCAG.1</th>\n",
       "      <th>s.0165_TTTGTTGCATTACTCT.1</th>\n",
       "    </tr>\n",
       "  </thead>\n",
       "  <tbody>\n",
       "    <tr>\n",
       "      <th>MIR1302-2HG</th>\n",
       "      <td>0</td>\n",
       "      <td>0</td>\n",
       "      <td>0</td>\n",
       "      <td>0</td>\n",
       "      <td>0</td>\n",
       "      <td>0</td>\n",
       "      <td>0</td>\n",
       "      <td>0</td>\n",
       "      <td>0</td>\n",
       "      <td>0</td>\n",
       "      <td>...</td>\n",
       "      <td>0</td>\n",
       "      <td>0</td>\n",
       "      <td>0</td>\n",
       "      <td>0</td>\n",
       "      <td>0</td>\n",
       "      <td>0</td>\n",
       "      <td>0</td>\n",
       "      <td>0</td>\n",
       "      <td>0</td>\n",
       "      <td>0</td>\n",
       "    </tr>\n",
       "    <tr>\n",
       "      <th>FAM138A</th>\n",
       "      <td>0</td>\n",
       "      <td>0</td>\n",
       "      <td>0</td>\n",
       "      <td>0</td>\n",
       "      <td>0</td>\n",
       "      <td>0</td>\n",
       "      <td>0</td>\n",
       "      <td>0</td>\n",
       "      <td>0</td>\n",
       "      <td>0</td>\n",
       "      <td>...</td>\n",
       "      <td>0</td>\n",
       "      <td>0</td>\n",
       "      <td>0</td>\n",
       "      <td>0</td>\n",
       "      <td>0</td>\n",
       "      <td>0</td>\n",
       "      <td>0</td>\n",
       "      <td>0</td>\n",
       "      <td>0</td>\n",
       "      <td>0</td>\n",
       "    </tr>\n",
       "    <tr>\n",
       "      <th>OR4F5</th>\n",
       "      <td>0</td>\n",
       "      <td>0</td>\n",
       "      <td>0</td>\n",
       "      <td>0</td>\n",
       "      <td>0</td>\n",
       "      <td>0</td>\n",
       "      <td>0</td>\n",
       "      <td>0</td>\n",
       "      <td>0</td>\n",
       "      <td>0</td>\n",
       "      <td>...</td>\n",
       "      <td>0</td>\n",
       "      <td>0</td>\n",
       "      <td>0</td>\n",
       "      <td>0</td>\n",
       "      <td>0</td>\n",
       "      <td>0</td>\n",
       "      <td>0</td>\n",
       "      <td>0</td>\n",
       "      <td>0</td>\n",
       "      <td>0</td>\n",
       "    </tr>\n",
       "    <tr>\n",
       "      <th>AL627309.1</th>\n",
       "      <td>0</td>\n",
       "      <td>0</td>\n",
       "      <td>0</td>\n",
       "      <td>0</td>\n",
       "      <td>0</td>\n",
       "      <td>0</td>\n",
       "      <td>0</td>\n",
       "      <td>0</td>\n",
       "      <td>0</td>\n",
       "      <td>0</td>\n",
       "      <td>...</td>\n",
       "      <td>0</td>\n",
       "      <td>0</td>\n",
       "      <td>0</td>\n",
       "      <td>0</td>\n",
       "      <td>0</td>\n",
       "      <td>0</td>\n",
       "      <td>0</td>\n",
       "      <td>0</td>\n",
       "      <td>0</td>\n",
       "      <td>0</td>\n",
       "    </tr>\n",
       "    <tr>\n",
       "      <th>AL627309.3</th>\n",
       "      <td>0</td>\n",
       "      <td>0</td>\n",
       "      <td>0</td>\n",
       "      <td>0</td>\n",
       "      <td>0</td>\n",
       "      <td>0</td>\n",
       "      <td>0</td>\n",
       "      <td>0</td>\n",
       "      <td>0</td>\n",
       "      <td>0</td>\n",
       "      <td>...</td>\n",
       "      <td>0</td>\n",
       "      <td>0</td>\n",
       "      <td>0</td>\n",
       "      <td>0</td>\n",
       "      <td>0</td>\n",
       "      <td>0</td>\n",
       "      <td>0</td>\n",
       "      <td>0</td>\n",
       "      <td>0</td>\n",
       "      <td>0</td>\n",
       "    </tr>\n",
       "    <tr>\n",
       "      <th>...</th>\n",
       "      <td>...</td>\n",
       "      <td>...</td>\n",
       "      <td>...</td>\n",
       "      <td>...</td>\n",
       "      <td>...</td>\n",
       "      <td>...</td>\n",
       "      <td>...</td>\n",
       "      <td>...</td>\n",
       "      <td>...</td>\n",
       "      <td>...</td>\n",
       "      <td>...</td>\n",
       "      <td>...</td>\n",
       "      <td>...</td>\n",
       "      <td>...</td>\n",
       "      <td>...</td>\n",
       "      <td>...</td>\n",
       "      <td>...</td>\n",
       "      <td>...</td>\n",
       "      <td>...</td>\n",
       "      <td>...</td>\n",
       "      <td>...</td>\n",
       "    </tr>\n",
       "    <tr>\n",
       "      <th>AC233755.2</th>\n",
       "      <td>0</td>\n",
       "      <td>0</td>\n",
       "      <td>0</td>\n",
       "      <td>0</td>\n",
       "      <td>0</td>\n",
       "      <td>0</td>\n",
       "      <td>0</td>\n",
       "      <td>0</td>\n",
       "      <td>0</td>\n",
       "      <td>0</td>\n",
       "      <td>...</td>\n",
       "      <td>0</td>\n",
       "      <td>0</td>\n",
       "      <td>0</td>\n",
       "      <td>0</td>\n",
       "      <td>0</td>\n",
       "      <td>0</td>\n",
       "      <td>0</td>\n",
       "      <td>0</td>\n",
       "      <td>0</td>\n",
       "      <td>0</td>\n",
       "    </tr>\n",
       "    <tr>\n",
       "      <th>AC233755.1</th>\n",
       "      <td>0</td>\n",
       "      <td>0</td>\n",
       "      <td>0</td>\n",
       "      <td>0</td>\n",
       "      <td>0</td>\n",
       "      <td>0</td>\n",
       "      <td>0</td>\n",
       "      <td>0</td>\n",
       "      <td>0</td>\n",
       "      <td>0</td>\n",
       "      <td>...</td>\n",
       "      <td>0</td>\n",
       "      <td>0</td>\n",
       "      <td>0</td>\n",
       "      <td>0</td>\n",
       "      <td>0</td>\n",
       "      <td>0</td>\n",
       "      <td>0</td>\n",
       "      <td>0</td>\n",
       "      <td>0</td>\n",
       "      <td>0</td>\n",
       "    </tr>\n",
       "    <tr>\n",
       "      <th>AC240274.1</th>\n",
       "      <td>0</td>\n",
       "      <td>0</td>\n",
       "      <td>0</td>\n",
       "      <td>0</td>\n",
       "      <td>0</td>\n",
       "      <td>0</td>\n",
       "      <td>0</td>\n",
       "      <td>0</td>\n",
       "      <td>0</td>\n",
       "      <td>0</td>\n",
       "      <td>...</td>\n",
       "      <td>0</td>\n",
       "      <td>0</td>\n",
       "      <td>0</td>\n",
       "      <td>0</td>\n",
       "      <td>0</td>\n",
       "      <td>0</td>\n",
       "      <td>0</td>\n",
       "      <td>0</td>\n",
       "      <td>0</td>\n",
       "      <td>0</td>\n",
       "    </tr>\n",
       "    <tr>\n",
       "      <th>AC213203.1</th>\n",
       "      <td>0</td>\n",
       "      <td>0</td>\n",
       "      <td>0</td>\n",
       "      <td>0</td>\n",
       "      <td>0</td>\n",
       "      <td>0</td>\n",
       "      <td>0</td>\n",
       "      <td>0</td>\n",
       "      <td>0</td>\n",
       "      <td>0</td>\n",
       "      <td>...</td>\n",
       "      <td>0</td>\n",
       "      <td>0</td>\n",
       "      <td>0</td>\n",
       "      <td>0</td>\n",
       "      <td>0</td>\n",
       "      <td>0</td>\n",
       "      <td>0</td>\n",
       "      <td>0</td>\n",
       "      <td>0</td>\n",
       "      <td>0</td>\n",
       "    </tr>\n",
       "    <tr>\n",
       "      <th>FAM231C</th>\n",
       "      <td>0</td>\n",
       "      <td>0</td>\n",
       "      <td>0</td>\n",
       "      <td>0</td>\n",
       "      <td>0</td>\n",
       "      <td>0</td>\n",
       "      <td>0</td>\n",
       "      <td>0</td>\n",
       "      <td>0</td>\n",
       "      <td>0</td>\n",
       "      <td>...</td>\n",
       "      <td>0</td>\n",
       "      <td>0</td>\n",
       "      <td>0</td>\n",
       "      <td>0</td>\n",
       "      <td>0</td>\n",
       "      <td>0</td>\n",
       "      <td>0</td>\n",
       "      <td>0</td>\n",
       "      <td>0</td>\n",
       "      <td>0</td>\n",
       "    </tr>\n",
       "  </tbody>\n",
       "</table>\n",
       "<p>33537 rows × 83484 columns</p>\n",
       "</div>"
      ],
      "text/plain": [
       "             s.0096_AAACCCAAGTACGAGC.1  s.0096_AAACCCACACAGCGCT.1  \\\n",
       "MIR1302-2HG                          0                          0   \n",
       "FAM138A                              0                          0   \n",
       "OR4F5                                0                          0   \n",
       "AL627309.1                           0                          0   \n",
       "AL627309.3                           0                          0   \n",
       "...                                ...                        ...   \n",
       "AC233755.2                           0                          0   \n",
       "AC233755.1                           0                          0   \n",
       "AC240274.1                           0                          0   \n",
       "AC213203.1                           0                          0   \n",
       "FAM231C                              0                          0   \n",
       "\n",
       "             s.0096_AAACCCACAGATAAAC.1  s.0096_AAACCCAGTCCGGATC.1  \\\n",
       "MIR1302-2HG                          0                          0   \n",
       "FAM138A                              0                          0   \n",
       "OR4F5                                0                          0   \n",
       "AL627309.1                           0                          0   \n",
       "AL627309.3                           0                          0   \n",
       "...                                ...                        ...   \n",
       "AC233755.2                           0                          0   \n",
       "AC233755.1                           0                          0   \n",
       "AC240274.1                           0                          0   \n",
       "AC213203.1                           0                          0   \n",
       "FAM231C                              0                          0   \n",
       "\n",
       "             s.0096_AAACCCAGTCTCTCAC.1  s.0096_AAACCCAGTGAATTGA.1  \\\n",
       "MIR1302-2HG                          0                          0   \n",
       "FAM138A                              0                          0   \n",
       "OR4F5                                0                          0   \n",
       "AL627309.1                           0                          0   \n",
       "AL627309.3                           0                          0   \n",
       "...                                ...                        ...   \n",
       "AC233755.2                           0                          0   \n",
       "AC233755.1                           0                          0   \n",
       "AC240274.1                           0                          0   \n",
       "AC213203.1                           0                          0   \n",
       "FAM231C                              0                          0   \n",
       "\n",
       "             s.0096_AAACCCAGTTTACGAC.1  s.0096_AAACCCATCATGGAGG.1  \\\n",
       "MIR1302-2HG                          0                          0   \n",
       "FAM138A                              0                          0   \n",
       "OR4F5                                0                          0   \n",
       "AL627309.1                           0                          0   \n",
       "AL627309.3                           0                          0   \n",
       "...                                ...                        ...   \n",
       "AC233755.2                           0                          0   \n",
       "AC233755.1                           0                          0   \n",
       "AC240274.1                           0                          0   \n",
       "AC213203.1                           0                          0   \n",
       "FAM231C                              0                          0   \n",
       "\n",
       "             s.0096_AAACCCATCCGTGCGA.1  s.0096_AAACCCATCGCGAAGA.1  ...  \\\n",
       "MIR1302-2HG                          0                          0  ...   \n",
       "FAM138A                              0                          0  ...   \n",
       "OR4F5                                0                          0  ...   \n",
       "AL627309.1                           0                          0  ...   \n",
       "AL627309.3                           0                          0  ...   \n",
       "...                                ...                        ...  ...   \n",
       "AC233755.2                           0                          0  ...   \n",
       "AC233755.1                           0                          0  ...   \n",
       "AC240274.1                           0                          0  ...   \n",
       "AC213203.1                           0                          0  ...   \n",
       "FAM231C                              0                          0  ...   \n",
       "\n",
       "             s.0165_TTTGATCCAGAGGTTG.1  s.0165_TTTGGTTAGCGCCTTG.1  \\\n",
       "MIR1302-2HG                          0                          0   \n",
       "FAM138A                              0                          0   \n",
       "OR4F5                                0                          0   \n",
       "AL627309.1                           0                          0   \n",
       "AL627309.3                           0                          0   \n",
       "...                                ...                        ...   \n",
       "AC233755.2                           0                          0   \n",
       "AC233755.1                           0                          0   \n",
       "AC240274.1                           0                          0   \n",
       "AC213203.1                           0                          0   \n",
       "FAM231C                              0                          0   \n",
       "\n",
       "             s.0165_TTTGGTTCAAACTAAG.1  s.0165_TTTGGTTCATGCCGGT.1  \\\n",
       "MIR1302-2HG                          0                          0   \n",
       "FAM138A                              0                          0   \n",
       "OR4F5                                0                          0   \n",
       "AL627309.1                           0                          0   \n",
       "AL627309.3                           0                          0   \n",
       "...                                ...                        ...   \n",
       "AC233755.2                           0                          0   \n",
       "AC233755.1                           0                          0   \n",
       "AC240274.1                           0                          0   \n",
       "AC213203.1                           0                          0   \n",
       "FAM231C                              0                          0   \n",
       "\n",
       "             s.0165_TTTGGTTGTAGAGATT.1  s.0165_TTTGGTTTCCGCCTAT.1  \\\n",
       "MIR1302-2HG                          0                          0   \n",
       "FAM138A                              0                          0   \n",
       "OR4F5                                0                          0   \n",
       "AL627309.1                           0                          0   \n",
       "AL627309.3                           0                          0   \n",
       "...                                ...                        ...   \n",
       "AC233755.2                           0                          0   \n",
       "AC233755.1                           0                          0   \n",
       "AC240274.1                           0                          0   \n",
       "AC213203.1                           0                          0   \n",
       "FAM231C                              0                          0   \n",
       "\n",
       "             s.0165_TTTGGTTTCTCGTTTA.1  s.0165_TTTGTTGCAAGTTCGT.1  \\\n",
       "MIR1302-2HG                          0                          0   \n",
       "FAM138A                              0                          0   \n",
       "OR4F5                                0                          0   \n",
       "AL627309.1                           0                          0   \n",
       "AL627309.3                           0                          0   \n",
       "...                                ...                        ...   \n",
       "AC233755.2                           0                          0   \n",
       "AC233755.1                           0                          0   \n",
       "AC240274.1                           0                          0   \n",
       "AC213203.1                           0                          0   \n",
       "FAM231C                              0                          0   \n",
       "\n",
       "             s.0165_TTTGTTGCATGTTCAG.1  s.0165_TTTGTTGCATTACTCT.1  \n",
       "MIR1302-2HG                          0                          0  \n",
       "FAM138A                              0                          0  \n",
       "OR4F5                                0                          0  \n",
       "AL627309.1                           0                          0  \n",
       "AL627309.3                           0                          0  \n",
       "...                                ...                        ...  \n",
       "AC233755.2                           0                          0  \n",
       "AC233755.1                           0                          0  \n",
       "AC240274.1                           0                          0  \n",
       "AC213203.1                           0                          0  \n",
       "FAM231C                              0                          0  \n",
       "\n",
       "[33537 rows x 83484 columns]"
      ]
     },
     "execution_count": 9,
     "metadata": {},
     "output_type": "execute_result"
    }
   ],
   "source": [
    "ex_matrix = pd.DataFrame(m[:, 1:], columns = cell_names, index = gene_names)\n",
    "ex_matrix"
   ]
  },
  {
   "cell_type": "code",
   "execution_count": 10,
   "id": "ce400181",
   "metadata": {},
   "outputs": [
    {
     "name": "stdout",
     "output_type": "stream",
     "text": [
      "['UQCRC2', 'ATP6V0E2', 'NDUFS7', 'ATP6V1G1', 'ATP6AP1', 'NDUFA8', 'NDUFA6', 'UQCRB', 'ATP5MC2', 'COX10', 'ATP5MF', 'ATP5F1C', 'NDUFB9', 'COX6C', 'ATP6V0C', 'COX5B', 'NDUFA4L2', 'ATP6V1C2', 'ATP5MG', 'COX7A2', 'NDUFV1', 'NDUFC2', 'NDUFB2', 'UQCRHL', 'COX4I1', 'ATP5F1B', 'MT-ND3', 'MT-ND6', 'COX4I2', 'ATP6V1G2', 'NDUFA9', 'ATP6V1B1', 'ATP5PB', 'COX7C', 'NDUFS1', 'NDUFS8', 'UQCRFS1', 'NDUFA10', 'ATP5PD', 'NDUFB7', 'NDUFA1', 'COX15', 'ATP5ME', 'COX6A2', 'MT-ATP6', 'NDUFB4', 'COX6B1', 'MT-ATP8', 'NDUFB3', 'ATP6V1H', 'ATP5MC3', 'CYCS', 'NDUFB1', 'MT-ND4', 'COX7A2L', 'NDUFV2', 'NDUFA12', 'MT-CYB', 'NDUFA3', 'ATP5PF', 'COX8C', 'COX7B', 'ATP6V0A1', 'NDUFS5', 'NDUFAB1', 'ATP5F1E', 'NDUFA11', 'PPA1', 'ATP5PO', 'ATP6V0A4', 'COX6A1', 'COX5A', 'UQCR11', 'ATP5F1D', 'COX7B2', 'ATP6V0D2', 'COX17', 'NDUFS2', 'ATP6V0E1', 'MT-ND4L', 'NDUFA5', 'UQCRH', 'COX11', 'NDUFS3', 'NDUFB11', 'ATP6V0B', 'MT-CO3', 'UQCRQ', 'ATP6V0A2', 'ATP4B', 'LHPP', 'ATP4A', 'MT-ND1', 'ATP6V1C1', 'MT-CO2', 'CYC1', 'PPA2', 'COX6B2', 'ATP5MC1', 'SDHD', 'MT-ND2', 'NDUFS4', 'ATP5MGL', 'NDUFS6', 'ATP6V1G3', 'NDUFA7', 'ATP6V0D1', 'ATP6V1B2', 'ATP6V1D', 'NDUFA13', 'ATP6V1F', 'COX8A', 'SDHB', 'NDUFB6', 'NDUFB8', 'SDHC', 'ATP5F1A', 'ATP12A', 'MT-CO1', 'NDUFB5', 'NDUFA4', 'UQCR10', 'NDUFA2', 'MT-ND5', 'NDUFC1', 'ATP6V1E2', 'ATP6V1A', 'NDUFV3', 'COX7A1', 'NDUFC2-KCTD14', 'TCIRG1', 'SDHA', 'UQCRC1', 'ATP6V1E1', 'NDUFB10']\n"
     ]
    }
   ],
   "source": [
    "# Compute the intersection\n",
    "intersection = list(set(gene_names).intersection(set(data_genes)))\n",
    "print(intersection)"
   ]
  },
  {
   "cell_type": "code",
   "execution_count": 11,
   "id": "709e966d",
   "metadata": {},
   "outputs": [
    {
     "data": {
      "text/plain": [
       "135"
      ]
     },
     "execution_count": 11,
     "metadata": {},
     "output_type": "execute_result"
    }
   ],
   "source": [
    "len(intersection)"
   ]
  },
  {
   "cell_type": "code",
   "execution_count": 12,
   "id": "b90fa075-d45b-49dd-a603-bacade025704",
   "metadata": {},
   "outputs": [
    {
     "name": "stdout",
     "output_type": "stream",
     "text": [
      "['ATP6V1FP2']\n"
     ]
    }
   ],
   "source": [
    "# Compute the genes that don't overlap in the other direction\n",
    "difference_reverse = list(set(data_genes).difference(set(gene_names)))\n",
    "print(difference_reverse)"
   ]
  },
  {
   "cell_type": "markdown",
   "id": "1093ea54-61e9-4767-96f6-168aa0c6deb9",
   "metadata": {},
   "source": [
    "This 1 gene is missing from the dataset."
   ]
  },
  {
   "cell_type": "code",
   "execution_count": 13,
   "id": "a0884472",
   "metadata": {},
   "outputs": [],
   "source": [
    "# Run AUCell\n",
    "# 1. Rankings (~2mn)\n",
    "rnk_mtx = create_rankings(ex_matrix.transpose(), seed=42)"
   ]
  },
  {
   "cell_type": "code",
   "execution_count": 14,
   "id": "5244ef96",
   "metadata": {},
   "outputs": [
    {
     "data": {
      "text/html": [
       "<div>\n",
       "<style scoped>\n",
       "    .dataframe tbody tr th:only-of-type {\n",
       "        vertical-align: middle;\n",
       "    }\n",
       "\n",
       "    .dataframe tbody tr th {\n",
       "        vertical-align: top;\n",
       "    }\n",
       "\n",
       "    .dataframe thead th {\n",
       "        text-align: right;\n",
       "    }\n",
       "</style>\n",
       "<table border=\"1\" class=\"dataframe\">\n",
       "  <thead>\n",
       "    <tr style=\"text-align: right;\">\n",
       "      <th></th>\n",
       "      <th></th>\n",
       "      <th>AUC</th>\n",
       "    </tr>\n",
       "    <tr>\n",
       "      <th>Cell</th>\n",
       "      <th>Regulon</th>\n",
       "      <th></th>\n",
       "    </tr>\n",
       "  </thead>\n",
       "  <tbody>\n",
       "    <tr>\n",
       "      <th>s.0096_AAACCCAAGTACGAGC.1</th>\n",
       "      <th>KEGG hsa00190 - Oxidative phosphorylation</th>\n",
       "      <td>0.075024</td>\n",
       "    </tr>\n",
       "    <tr>\n",
       "      <th>s.0096_AAACCCACACAGCGCT.1</th>\n",
       "      <th>KEGG hsa00190 - Oxidative phosphorylation</th>\n",
       "      <td>0.055434</td>\n",
       "    </tr>\n",
       "    <tr>\n",
       "      <th>s.0096_AAACCCACAGATAAAC.1</th>\n",
       "      <th>KEGG hsa00190 - Oxidative phosphorylation</th>\n",
       "      <td>0.042580</td>\n",
       "    </tr>\n",
       "    <tr>\n",
       "      <th>s.0096_AAACCCAGTCCGGATC.1</th>\n",
       "      <th>KEGG hsa00190 - Oxidative phosphorylation</th>\n",
       "      <td>0.055434</td>\n",
       "    </tr>\n",
       "    <tr>\n",
       "      <th>s.0096_AAACCCAGTCTCTCAC.1</th>\n",
       "      <th>KEGG hsa00190 - Oxidative phosphorylation</th>\n",
       "      <td>0.013353</td>\n",
       "    </tr>\n",
       "    <tr>\n",
       "      <th>...</th>\n",
       "      <th>...</th>\n",
       "      <td>...</td>\n",
       "    </tr>\n",
       "    <tr>\n",
       "      <th>s.0165_TTTGGTTTCCGCCTAT.1</th>\n",
       "      <th>KEGG hsa00190 - Oxidative phosphorylation</th>\n",
       "      <td>0.049551</td>\n",
       "    </tr>\n",
       "    <tr>\n",
       "      <th>s.0165_TTTGGTTTCTCGTTTA.1</th>\n",
       "      <th>KEGG hsa00190 - Oxidative phosphorylation</th>\n",
       "      <td>0.117591</td>\n",
       "    </tr>\n",
       "    <tr>\n",
       "      <th>s.0165_TTTGTTGCAAGTTCGT.1</th>\n",
       "      <th>KEGG hsa00190 - Oxidative phosphorylation</th>\n",
       "      <td>0.055562</td>\n",
       "    </tr>\n",
       "    <tr>\n",
       "      <th>s.0165_TTTGTTGCATGTTCAG.1</th>\n",
       "      <th>KEGG hsa00190 - Oxidative phosphorylation</th>\n",
       "      <td>0.058782</td>\n",
       "    </tr>\n",
       "    <tr>\n",
       "      <th>s.0165_TTTGTTGCATTACTCT.1</th>\n",
       "      <th>KEGG hsa00190 - Oxidative phosphorylation</th>\n",
       "      <td>0.044383</td>\n",
       "    </tr>\n",
       "  </tbody>\n",
       "</table>\n",
       "<p>83484 rows × 1 columns</p>\n",
       "</div>"
      ],
      "text/plain": [
       "                                                                          AUC\n",
       "Cell                      Regulon                                            \n",
       "s.0096_AAACCCAAGTACGAGC.1 KEGG hsa00190 - Oxidative phosphorylation  0.075024\n",
       "s.0096_AAACCCACACAGCGCT.1 KEGG hsa00190 - Oxidative phosphorylation  0.055434\n",
       "s.0096_AAACCCACAGATAAAC.1 KEGG hsa00190 - Oxidative phosphorylation  0.042580\n",
       "s.0096_AAACCCAGTCCGGATC.1 KEGG hsa00190 - Oxidative phosphorylation  0.055434\n",
       "s.0096_AAACCCAGTCTCTCAC.1 KEGG hsa00190 - Oxidative phosphorylation  0.013353\n",
       "...                                                                       ...\n",
       "s.0165_TTTGGTTTCCGCCTAT.1 KEGG hsa00190 - Oxidative phosphorylation  0.049551\n",
       "s.0165_TTTGGTTTCTCGTTTA.1 KEGG hsa00190 - Oxidative phosphorylation  0.117591\n",
       "s.0165_TTTGTTGCAAGTTCGT.1 KEGG hsa00190 - Oxidative phosphorylation  0.055562\n",
       "s.0165_TTTGTTGCATGTTCAG.1 KEGG hsa00190 - Oxidative phosphorylation  0.058782\n",
       "s.0165_TTTGTTGCATTACTCT.1 KEGG hsa00190 - Oxidative phosphorylation  0.044383\n",
       "\n",
       "[83484 rows x 1 columns]"
      ]
     },
     "execution_count": 14,
     "metadata": {},
     "output_type": "execute_result"
    }
   ],
   "source": [
    "# 2. Enrichment (~5s)\n",
    "aucs = enrichment(rnk_mtx, gs)\n",
    "aucs"
   ]
  },
  {
   "cell_type": "code",
   "execution_count": 15,
   "id": "8a2d79f1",
   "metadata": {},
   "outputs": [
    {
     "data": {
      "text/plain": [
       "0.0"
      ]
     },
     "execution_count": 15,
     "metadata": {},
     "output_type": "execute_result"
    }
   ],
   "source": [
    "min(aucs[\"AUC\"])"
   ]
  },
  {
   "cell_type": "code",
   "execution_count": 16,
   "id": "382e224b",
   "metadata": {},
   "outputs": [
    {
     "data": {
      "text/plain": [
       "0.415671724198856"
      ]
     },
     "execution_count": 16,
     "metadata": {},
     "output_type": "execute_result"
    }
   ],
   "source": [
    "max(aucs[\"AUC\"])"
   ]
  },
  {
   "cell_type": "code",
   "execution_count": 17,
   "id": "6aec55cb",
   "metadata": {},
   "outputs": [],
   "source": [
    "# Save DataFrame to TSV file\n",
    "aucs.to_csv(\"/data/gardeux/Neuro_Droso_ND75KD/data/Martirosyan_135_Oxphos_AUCell_auc.tsv\", sep='\\t', index=True)"
   ]
  }
 ],
 "metadata": {
  "kernelspec": {
   "display_name": "Python 3.11 (SCENIC+)",
   "language": "python",
   "name": "python3_11"
  },
  "language_info": {
   "codemirror_mode": {
    "name": "ipython",
    "version": 3
   },
   "file_extension": ".py",
   "mimetype": "text/x-python",
   "name": "python",
   "nbconvert_exporter": "python",
   "pygments_lexer": "ipython3",
   "version": "3.11.10"
  }
 },
 "nbformat": 4,
 "nbformat_minor": 5
}
