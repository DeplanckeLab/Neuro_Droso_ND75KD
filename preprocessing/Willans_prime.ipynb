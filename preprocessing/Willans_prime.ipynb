{
 "cells": [
  {
   "cell_type": "code",
   "execution_count": 21,
   "id": "e0366204-04bc-452d-b442-5bcc99dd2240",
   "metadata": {},
   "outputs": [],
   "source": [
    "import math"
   ]
  },
  {
   "cell_type": "code",
   "execution_count": 61,
   "id": "22eb0753-2c93-4ec9-ade4-1171cf9b8160",
   "metadata": {},
   "outputs": [],
   "source": [
    "def willans(n):\n",
    "    sum1 = 0\n",
    "    for i in range(1, int(math.pow(2, n)) + 1):\n",
    "        sum2 = 0\n",
    "        for j in range(1,i + 1):\n",
    "            cos = math.cos(math.pi * ((math.factorial(j - 1) + 1) / j))\n",
    "            sum2 += math.floor(cos * cos)\n",
    "        sum1 += math.floor(math.pow(n / sum2, 1/n))\n",
    "    return 1 + sum1"
   ]
  },
  {
   "cell_type": "code",
   "execution_count": 78,
   "id": "c76d7859-a1b3-4569-8610-130f0b628e32",
   "metadata": {},
   "outputs": [
    {
     "data": {
      "text/plain": [
       "13"
      ]
     },
     "execution_count": 78,
     "metadata": {},
     "output_type": "execute_result"
    }
   ],
   "source": [
    "willans(6)"
   ]
  }
 ],
 "metadata": {
  "kernelspec": {
   "display_name": "Python 3.12",
   "language": "python",
   "name": "python3_12"
  },
  "language_info": {
   "codemirror_mode": {
    "name": "ipython",
    "version": 3
   },
   "file_extension": ".py",
   "mimetype": "text/x-python",
   "name": "python",
   "nbconvert_exporter": "python",
   "pygments_lexer": "ipython3",
   "version": "3.12.6"
  }
 },
 "nbformat": 4,
 "nbformat_minor": 5
}
