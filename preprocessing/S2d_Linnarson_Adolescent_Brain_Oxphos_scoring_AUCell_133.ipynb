{
 "cells": [
  {
   "attachments": {},
   "cell_type": "markdown",
   "id": "8442a84a-beb4-4b5d-b4f5-425e9cbf7613",
   "metadata": {},
   "source": [
    "# MouseBrain - Linnarsson - AUCell Oxphos scoring\n",
    "*This script is to be run before the Rmd script, for computing the AUC values with pySCENIC* \n",
    "\n",
    "**Author:** Vincent Gardeux\n",
    "\n",
    "**Date Created:** 19/02/2025\n",
    "**Date Last Modified:** 19/02/2025"
   ]
  },
  {
   "cell_type": "code",
   "execution_count": 1,
   "id": "74ceeacd-020d-4f8f-9d2e-1a076f326eaf",
   "metadata": {},
   "outputs": [],
   "source": [
    "# import dependencies\n",
    "import pandas as pd\n",
    "import numpy as np\n",
    "import h5py\n",
    "from ctxcore.genesig import GeneSignature\n",
    "from pyscenic.aucell import create_rankings, enrichment"
   ]
  },
  {
   "cell_type": "code",
   "execution_count": 5,
   "id": "e8c0d22b",
   "metadata": {},
   "outputs": [],
   "source": [
    "GENE_SIGNATURE_FNAME = '/data/gardeux/Neuro_Droso_ND75KD/data/oxphos_genes_KEGG_mmu.txt' # From https://www.genome.jp/entry/mmu00190\n",
    "GENE_SIGNATURE_SNAME = '133 (+8) OXPHOS genes' # 8 are not present in Linnarsson's object\n",
    "EXPRESSION_MTX_FNAME = '/data/gardeux/Neuro_Droso_ND75KD/data/l5_all_rev1.loom' # From http://mousebrain.org/adolescent/downloads.html"
   ]
  },
  {
   "cell_type": "code",
   "execution_count": 18,
   "id": "f72fb6da",
   "metadata": {},
   "outputs": [
    {
     "data": {
      "text/plain": [
       "GeneSignature(name='KEGG mmu00190 - Oxidative phosphorylation', gene2weight=frozendict.frozendict({'mt-Nd1': 1.0, 'mt-Nd2': 1.0, 'mt-Nd3': 1.0, 'mt-Nd4': 1.0, 'mt-Nd4l': 1.0, 'mt-Nd5': 1.0, 'mt-Nd6': 1.0, 'Ndufs1': 1.0, 'Ndufs2': 1.0, 'Ndufs3': 1.0, 'Ndufs4': 1.0, 'Ndufs5': 1.0, 'Ndufs6': 1.0, 'Ndufs6b': 1.0, 'Ndufs7': 1.0, 'Ndufs8': 1.0, 'Ndufv1': 1.0, 'Ndufv2': 1.0, 'Ndufv3': 1.0, 'Ndufa1': 1.0, 'Ndufa2': 1.0, 'Ndufa3': 1.0, 'Ndufa4': 1.0, 'Ndufa4l2': 1.0, 'Gm19340': 1.0, 'Ndufa5': 1.0, 'Ndufa6': 1.0, 'Ndufa7': 1.0, 'Ndufa8': 1.0, 'Ndufa9': 1.0, 'Ndufa10': 1.0, 'Ndufab1-ps': 1.0, 'Ndufab1': 1.0, 'Ndufa11': 1.0, 'Ndufa12': 1.0, 'Ndufa13': 1.0, 'Ndufb1': 1.0, 'Ndufb2': 1.0, 'Ndufb3': 1.0, 'Ndufb4c': 1.0, 'Ndufb4b': 1.0, 'Ndufb4': 1.0, 'Ndufb5': 1.0, 'Ndufb6': 1.0, 'Ndufb7': 1.0, 'Ndufb8': 1.0, 'Ndufb9': 1.0, 'Ndufb10': 1.0, 'Ndufb11': 1.0, 'Ndufc1': 1.0, 'Ndufc2': 1.0, 'Sdha': 1.0, 'Sdhb': 1.0, 'Sdhc': 1.0, 'Sdhd': 1.0, 'Uqcrfs1': 1.0, 'mt-Cytb': 1.0, 'Cyc1': 1.0, 'Uqcrc1': 1.0, 'Uqcrc2': 1.0, 'Uqcrh': 1.0, 'Uqcrb': 1.0, 'Uqcrq': 1.0, 'Gm6293': 1.0, 'Uqcr10': 1.0, 'Uqcr11': 1.0, 'Cox10': 1.0, 'mt-Co3': 1.0, 'mt-Co1': 1.0, 'mt-Co2': 1.0, 'Cox4i1': 1.0, 'Cox4i2': 1.0, 'Gm11633': 1.0, 'Cox5a': 1.0, 'Cox5b': 1.0, 'Cox6a1': 1.0, 'Cox6a2': 1.0, 'Cox6b1': 1.0, 'Cox6b2': 1.0, 'Cox6c': 1.0, 'Cox7a1': 1.0, 'Cox7a2': 1.0, 'Cox7a2l': 1.0, 'Cox7b': 1.0, 'Cox7b2': 1.0, 'Cox7c': 1.0, 'Cox8a': 1.0, 'Cox8b': 1.0, 'Cox8c': 1.0, 'Cox11': 1.0, 'Cox15': 1.0, 'Cox17': 1.0, 'Cycs': 1.0, 'Cyct': 1.0, 'Atp5a1': 1.0, 'Atp5b': 1.0, 'Atp5c1': 1.0, 'Atp5d': 1.0, 'Atp5e': 1.0, 'Atp5o': 1.0, 'mt-Atp6': 1.0, 'Atp5f1': 1.0, 'Atp5g1': 1.0, 'Atp5g3': 1.0, 'Atp5g2': 1.0, 'Atp5h': 1.0, 'Atp5k': 1.0, 'Atp5j2': 1.0, 'Atp5l': 1.0, 'Atp5j': 1.0, 'mt-Atp8': 1.0, 'Atp6v1a': 1.0, 'Atp6v1b1': 1.0, 'Atp6v1b2': 1.0, 'Atp6v1c1': 1.0, 'Atp6v1c2': 1.0, 'Atp6v1d': 1.0, 'Atp6v1e1': 1.0, 'Atp6v1e2': 1.0, 'Atp6v1f': 1.0, 'Atp6v1g3': 1.0, 'Atp6v1g2': 1.0, 'Atp6v1g1': 1.0, 'Atp6v1h': 1.0, 'Atp6v0a1': 1.0, 'Atp6v0a4': 1.0, 'Atp6v0a2': 1.0, 'Tcirg1': 1.0, 'Atp6v0c': 1.0, 'Atp6v0b': 1.0, 'Atp6v0d1': 1.0, 'Atp6v0d2': 1.0, 'Atp6v0e': 1.0, 'Atp6v0e2': 1.0, 'Atp6ap1': 1.0, 'Atp4a': 1.0, 'Atp4b': 1.0, 'Atp12a': 1.0, 'Ppa1': 1.0, 'Ppa2': 1.0, 'Lhpp': 1.0}))"
      ]
     },
     "execution_count": 18,
     "metadata": {},
     "output_type": "execute_result"
    }
   ],
   "source": [
    "data_genes = pd.read_csv(filepath_or_buffer=GENE_SIGNATURE_FNAME, header=None)[0].tolist()\n",
    "gs = GeneSignature('KEGG mmu00190 - Oxidative phosphorylation', data_genes)\n",
    "gs"
   ]
  },
  {
   "cell_type": "code",
   "execution_count": 19,
   "id": "76cf3643-b72c-4da2-85bd-a80eede5d187",
   "metadata": {},
   "outputs": [
    {
     "data": {
      "text/plain": [
       "141"
      ]
     },
     "execution_count": 19,
     "metadata": {},
     "output_type": "execute_result"
    }
   ],
   "source": [
    "len(gs)"
   ]
  },
  {
   "cell_type": "code",
   "execution_count": 20,
   "id": "44ca7845",
   "metadata": {},
   "outputs": [
    {
     "data": {
      "text/plain": [
       "array([[21., 28., 28., ...,  0.,  0.,  0.],\n",
       "       [ 1.,  1.,  0., ...,  0.,  0.,  0.],\n",
       "       [14., 11.,  7., ...,  2.,  2.,  2.],\n",
       "       ...,\n",
       "       [ 0.,  0.,  2., ...,  2.,  3.,  3.],\n",
       "       [ 0.,  1.,  0., ...,  0.,  0.,  1.],\n",
       "       [ 1.,  0.,  2., ...,  8., 11.,  3.]], dtype=float32)"
      ]
     },
     "execution_count": 20,
     "metadata": {},
     "output_type": "execute_result"
    }
   ],
   "source": [
    "# Open Loom file in reading mode\n",
    "f = h5py.File(EXPRESSION_MTX_FNAME, 'r')\n",
    "m = f[\"/matrix\"][:,:]\n",
    "gene_names = f[\"/row_attrs/Gene\"].asstr()[:]\n",
    "cell_names = f[\"/col_attrs/CellID\"].asstr()[:]\n",
    "f.close()\n",
    "\n",
    "m"
   ]
  },
  {
   "cell_type": "code",
   "execution_count": 21,
   "id": "abab122e",
   "metadata": {},
   "outputs": [
    {
     "data": {
      "text/plain": [
       "(27998, 160796)"
      ]
     },
     "execution_count": 21,
     "metadata": {},
     "output_type": "execute_result"
    }
   ],
   "source": [
    "m.shape"
   ]
  },
  {
   "cell_type": "code",
   "execution_count": 22,
   "id": "19cdc61e",
   "metadata": {},
   "outputs": [
    {
     "data": {
      "text/plain": [
       "array(['10X82_2:TCTCTCACCAGTTA', '10X82_2:TATTATCTACCAGA',\n",
       "       '10X82_2:TATCCCAGATGGCA', ..., '10X43_2:CTGCAGCTTAGAGA',\n",
       "       '10X53_7:XXGCGATGGGAGGT', '10X43_2:CCTTAATGGGGCAA'], dtype=object)"
      ]
     },
     "execution_count": 22,
     "metadata": {},
     "output_type": "execute_result"
    }
   ],
   "source": [
    "cell_names"
   ]
  },
  {
   "cell_type": "code",
   "execution_count": 23,
   "id": "64a72090",
   "metadata": {},
   "outputs": [
    {
     "data": {
      "text/plain": [
       "160796"
      ]
     },
     "execution_count": 23,
     "metadata": {},
     "output_type": "execute_result"
    }
   ],
   "source": [
    "len(cell_names)"
   ]
  },
  {
   "cell_type": "code",
   "execution_count": 24,
   "id": "260d83eb",
   "metadata": {},
   "outputs": [
    {
     "data": {
      "text/plain": [
       "array(['Cbln2', 'Ptchd2', 'P2rx2', ..., 'Mmadhc', 'Med27', 'Psmc6'],\n",
       "      dtype=object)"
      ]
     },
     "execution_count": 24,
     "metadata": {},
     "output_type": "execute_result"
    }
   ],
   "source": [
    "gene_names"
   ]
  },
  {
   "cell_type": "code",
   "execution_count": 25,
   "id": "774324a4",
   "metadata": {},
   "outputs": [
    {
     "data": {
      "text/plain": [
       "27998"
      ]
     },
     "execution_count": 25,
     "metadata": {},
     "output_type": "execute_result"
    }
   ],
   "source": [
    "len(gene_names)"
   ]
  },
  {
   "cell_type": "code",
   "execution_count": 26,
   "id": "e490973f",
   "metadata": {},
   "outputs": [
    {
     "data": {
      "text/html": [
       "<div>\n",
       "<style scoped>\n",
       "    .dataframe tbody tr th:only-of-type {\n",
       "        vertical-align: middle;\n",
       "    }\n",
       "\n",
       "    .dataframe tbody tr th {\n",
       "        vertical-align: top;\n",
       "    }\n",
       "\n",
       "    .dataframe thead th {\n",
       "        text-align: right;\n",
       "    }\n",
       "</style>\n",
       "<table border=\"1\" class=\"dataframe\">\n",
       "  <thead>\n",
       "    <tr style=\"text-align: right;\">\n",
       "      <th></th>\n",
       "      <th>10X82_2:TCTCTCACCAGTTA</th>\n",
       "      <th>10X82_2:TATTATCTACCAGA</th>\n",
       "      <th>10X82_2:TATCCCAGATGGCA</th>\n",
       "      <th>10X82_2:ATTACGTATGAATG</th>\n",
       "      <th>10X82_2:ATACGTCAATAAGG</th>\n",
       "      <th>10X82_2:TACAGTCTTCGGTC</th>\n",
       "      <th>10X81_2:CGTAACATTCGACA</th>\n",
       "      <th>10X81_3:TGATGAGATACACA</th>\n",
       "      <th>10X82_2:GCCAGGTAGGACAC</th>\n",
       "      <th>10X81_2:AGATCAGTCCGTAT</th>\n",
       "      <th>...</th>\n",
       "      <th>10X53_7:TATGTCTGAGAGGC</th>\n",
       "      <th>10X43_2:TTCAGTTGCTTGGA</th>\n",
       "      <th>10X43_2:CAAGTCGATCGTGA</th>\n",
       "      <th>10X43_2:ACGAAGCTTCGTAG</th>\n",
       "      <th>10X43_2:TACCATTGGGCAAG</th>\n",
       "      <th>10X43_2:GGTACAACAGTCGT</th>\n",
       "      <th>10X43_2:TAATGATGGGTTAC</th>\n",
       "      <th>10X43_2:CTGCAGCTTAGAGA</th>\n",
       "      <th>10X53_7:XXGCGATGGGAGGT</th>\n",
       "      <th>10X43_2:CCTTAATGGGGCAA</th>\n",
       "    </tr>\n",
       "  </thead>\n",
       "  <tbody>\n",
       "    <tr>\n",
       "      <th>Cbln2</th>\n",
       "      <td>21.0</td>\n",
       "      <td>28.0</td>\n",
       "      <td>28.0</td>\n",
       "      <td>48.0</td>\n",
       "      <td>31.0</td>\n",
       "      <td>29.0</td>\n",
       "      <td>66.0</td>\n",
       "      <td>13.0</td>\n",
       "      <td>22.0</td>\n",
       "      <td>45.0</td>\n",
       "      <td>...</td>\n",
       "      <td>0.0</td>\n",
       "      <td>0.0</td>\n",
       "      <td>0.0</td>\n",
       "      <td>0.0</td>\n",
       "      <td>0.0</td>\n",
       "      <td>0.0</td>\n",
       "      <td>0.0</td>\n",
       "      <td>0.0</td>\n",
       "      <td>0.0</td>\n",
       "      <td>0.0</td>\n",
       "    </tr>\n",
       "    <tr>\n",
       "      <th>Ptchd2</th>\n",
       "      <td>1.0</td>\n",
       "      <td>1.0</td>\n",
       "      <td>0.0</td>\n",
       "      <td>0.0</td>\n",
       "      <td>0.0</td>\n",
       "      <td>0.0</td>\n",
       "      <td>1.0</td>\n",
       "      <td>2.0</td>\n",
       "      <td>0.0</td>\n",
       "      <td>0.0</td>\n",
       "      <td>...</td>\n",
       "      <td>0.0</td>\n",
       "      <td>0.0</td>\n",
       "      <td>0.0</td>\n",
       "      <td>0.0</td>\n",
       "      <td>0.0</td>\n",
       "      <td>0.0</td>\n",
       "      <td>0.0</td>\n",
       "      <td>0.0</td>\n",
       "      <td>0.0</td>\n",
       "      <td>0.0</td>\n",
       "    </tr>\n",
       "    <tr>\n",
       "      <th>P2rx2</th>\n",
       "      <td>14.0</td>\n",
       "      <td>11.0</td>\n",
       "      <td>7.0</td>\n",
       "      <td>13.0</td>\n",
       "      <td>11.0</td>\n",
       "      <td>7.0</td>\n",
       "      <td>16.0</td>\n",
       "      <td>7.0</td>\n",
       "      <td>14.0</td>\n",
       "      <td>9.0</td>\n",
       "      <td>...</td>\n",
       "      <td>0.0</td>\n",
       "      <td>3.0</td>\n",
       "      <td>2.0</td>\n",
       "      <td>6.0</td>\n",
       "      <td>8.0</td>\n",
       "      <td>3.0</td>\n",
       "      <td>1.0</td>\n",
       "      <td>2.0</td>\n",
       "      <td>2.0</td>\n",
       "      <td>2.0</td>\n",
       "    </tr>\n",
       "    <tr>\n",
       "      <th>Ptger4</th>\n",
       "      <td>2.0</td>\n",
       "      <td>1.0</td>\n",
       "      <td>2.0</td>\n",
       "      <td>2.0</td>\n",
       "      <td>2.0</td>\n",
       "      <td>1.0</td>\n",
       "      <td>0.0</td>\n",
       "      <td>0.0</td>\n",
       "      <td>1.0</td>\n",
       "      <td>1.0</td>\n",
       "      <td>...</td>\n",
       "      <td>0.0</td>\n",
       "      <td>0.0</td>\n",
       "      <td>0.0</td>\n",
       "      <td>0.0</td>\n",
       "      <td>0.0</td>\n",
       "      <td>0.0</td>\n",
       "      <td>0.0</td>\n",
       "      <td>1.0</td>\n",
       "      <td>0.0</td>\n",
       "      <td>1.0</td>\n",
       "    </tr>\n",
       "    <tr>\n",
       "      <th>Fam19a1</th>\n",
       "      <td>8.0</td>\n",
       "      <td>7.0</td>\n",
       "      <td>9.0</td>\n",
       "      <td>20.0</td>\n",
       "      <td>4.0</td>\n",
       "      <td>11.0</td>\n",
       "      <td>20.0</td>\n",
       "      <td>4.0</td>\n",
       "      <td>16.0</td>\n",
       "      <td>18.0</td>\n",
       "      <td>...</td>\n",
       "      <td>0.0</td>\n",
       "      <td>0.0</td>\n",
       "      <td>0.0</td>\n",
       "      <td>0.0</td>\n",
       "      <td>0.0</td>\n",
       "      <td>0.0</td>\n",
       "      <td>0.0</td>\n",
       "      <td>0.0</td>\n",
       "      <td>0.0</td>\n",
       "      <td>0.0</td>\n",
       "    </tr>\n",
       "    <tr>\n",
       "      <th>...</th>\n",
       "      <td>...</td>\n",
       "      <td>...</td>\n",
       "      <td>...</td>\n",
       "      <td>...</td>\n",
       "      <td>...</td>\n",
       "      <td>...</td>\n",
       "      <td>...</td>\n",
       "      <td>...</td>\n",
       "      <td>...</td>\n",
       "      <td>...</td>\n",
       "      <td>...</td>\n",
       "      <td>...</td>\n",
       "      <td>...</td>\n",
       "      <td>...</td>\n",
       "      <td>...</td>\n",
       "      <td>...</td>\n",
       "      <td>...</td>\n",
       "      <td>...</td>\n",
       "      <td>...</td>\n",
       "      <td>...</td>\n",
       "      <td>...</td>\n",
       "    </tr>\n",
       "    <tr>\n",
       "      <th>BC051537</th>\n",
       "      <td>0.0</td>\n",
       "      <td>0.0</td>\n",
       "      <td>0.0</td>\n",
       "      <td>0.0</td>\n",
       "      <td>0.0</td>\n",
       "      <td>0.0</td>\n",
       "      <td>0.0</td>\n",
       "      <td>0.0</td>\n",
       "      <td>0.0</td>\n",
       "      <td>0.0</td>\n",
       "      <td>...</td>\n",
       "      <td>0.0</td>\n",
       "      <td>0.0</td>\n",
       "      <td>0.0</td>\n",
       "      <td>5.0</td>\n",
       "      <td>0.0</td>\n",
       "      <td>2.0</td>\n",
       "      <td>2.0</td>\n",
       "      <td>8.0</td>\n",
       "      <td>0.0</td>\n",
       "      <td>2.0</td>\n",
       "    </tr>\n",
       "    <tr>\n",
       "      <th>Gm15518</th>\n",
       "      <td>0.0</td>\n",
       "      <td>0.0</td>\n",
       "      <td>0.0</td>\n",
       "      <td>0.0</td>\n",
       "      <td>0.0</td>\n",
       "      <td>0.0</td>\n",
       "      <td>0.0</td>\n",
       "      <td>0.0</td>\n",
       "      <td>0.0</td>\n",
       "      <td>0.0</td>\n",
       "      <td>...</td>\n",
       "      <td>0.0</td>\n",
       "      <td>0.0</td>\n",
       "      <td>0.0</td>\n",
       "      <td>0.0</td>\n",
       "      <td>0.0</td>\n",
       "      <td>0.0</td>\n",
       "      <td>1.0</td>\n",
       "      <td>0.0</td>\n",
       "      <td>0.0</td>\n",
       "      <td>0.0</td>\n",
       "    </tr>\n",
       "    <tr>\n",
       "      <th>Mmadhc</th>\n",
       "      <td>0.0</td>\n",
       "      <td>0.0</td>\n",
       "      <td>2.0</td>\n",
       "      <td>1.0</td>\n",
       "      <td>1.0</td>\n",
       "      <td>1.0</td>\n",
       "      <td>1.0</td>\n",
       "      <td>0.0</td>\n",
       "      <td>1.0</td>\n",
       "      <td>1.0</td>\n",
       "      <td>...</td>\n",
       "      <td>0.0</td>\n",
       "      <td>3.0</td>\n",
       "      <td>1.0</td>\n",
       "      <td>2.0</td>\n",
       "      <td>0.0</td>\n",
       "      <td>0.0</td>\n",
       "      <td>2.0</td>\n",
       "      <td>2.0</td>\n",
       "      <td>3.0</td>\n",
       "      <td>3.0</td>\n",
       "    </tr>\n",
       "    <tr>\n",
       "      <th>Med27</th>\n",
       "      <td>0.0</td>\n",
       "      <td>1.0</td>\n",
       "      <td>0.0</td>\n",
       "      <td>0.0</td>\n",
       "      <td>0.0</td>\n",
       "      <td>0.0</td>\n",
       "      <td>2.0</td>\n",
       "      <td>0.0</td>\n",
       "      <td>0.0</td>\n",
       "      <td>0.0</td>\n",
       "      <td>...</td>\n",
       "      <td>0.0</td>\n",
       "      <td>1.0</td>\n",
       "      <td>0.0</td>\n",
       "      <td>0.0</td>\n",
       "      <td>0.0</td>\n",
       "      <td>0.0</td>\n",
       "      <td>1.0</td>\n",
       "      <td>0.0</td>\n",
       "      <td>0.0</td>\n",
       "      <td>1.0</td>\n",
       "    </tr>\n",
       "    <tr>\n",
       "      <th>Psmc6</th>\n",
       "      <td>1.0</td>\n",
       "      <td>0.0</td>\n",
       "      <td>2.0</td>\n",
       "      <td>5.0</td>\n",
       "      <td>1.0</td>\n",
       "      <td>1.0</td>\n",
       "      <td>1.0</td>\n",
       "      <td>1.0</td>\n",
       "      <td>2.0</td>\n",
       "      <td>3.0</td>\n",
       "      <td>...</td>\n",
       "      <td>1.0</td>\n",
       "      <td>3.0</td>\n",
       "      <td>2.0</td>\n",
       "      <td>3.0</td>\n",
       "      <td>1.0</td>\n",
       "      <td>7.0</td>\n",
       "      <td>3.0</td>\n",
       "      <td>8.0</td>\n",
       "      <td>11.0</td>\n",
       "      <td>3.0</td>\n",
       "    </tr>\n",
       "  </tbody>\n",
       "</table>\n",
       "<p>27998 rows × 160796 columns</p>\n",
       "</div>"
      ],
      "text/plain": [
       "          10X82_2:TCTCTCACCAGTTA  10X82_2:TATTATCTACCAGA  \\\n",
       "Cbln2                       21.0                    28.0   \n",
       "Ptchd2                       1.0                     1.0   \n",
       "P2rx2                       14.0                    11.0   \n",
       "Ptger4                       2.0                     1.0   \n",
       "Fam19a1                      8.0                     7.0   \n",
       "...                          ...                     ...   \n",
       "BC051537                     0.0                     0.0   \n",
       "Gm15518                      0.0                     0.0   \n",
       "Mmadhc                       0.0                     0.0   \n",
       "Med27                        0.0                     1.0   \n",
       "Psmc6                        1.0                     0.0   \n",
       "\n",
       "          10X82_2:TATCCCAGATGGCA  10X82_2:ATTACGTATGAATG  \\\n",
       "Cbln2                       28.0                    48.0   \n",
       "Ptchd2                       0.0                     0.0   \n",
       "P2rx2                        7.0                    13.0   \n",
       "Ptger4                       2.0                     2.0   \n",
       "Fam19a1                      9.0                    20.0   \n",
       "...                          ...                     ...   \n",
       "BC051537                     0.0                     0.0   \n",
       "Gm15518                      0.0                     0.0   \n",
       "Mmadhc                       2.0                     1.0   \n",
       "Med27                        0.0                     0.0   \n",
       "Psmc6                        2.0                     5.0   \n",
       "\n",
       "          10X82_2:ATACGTCAATAAGG  10X82_2:TACAGTCTTCGGTC  \\\n",
       "Cbln2                       31.0                    29.0   \n",
       "Ptchd2                       0.0                     0.0   \n",
       "P2rx2                       11.0                     7.0   \n",
       "Ptger4                       2.0                     1.0   \n",
       "Fam19a1                      4.0                    11.0   \n",
       "...                          ...                     ...   \n",
       "BC051537                     0.0                     0.0   \n",
       "Gm15518                      0.0                     0.0   \n",
       "Mmadhc                       1.0                     1.0   \n",
       "Med27                        0.0                     0.0   \n",
       "Psmc6                        1.0                     1.0   \n",
       "\n",
       "          10X81_2:CGTAACATTCGACA  10X81_3:TGATGAGATACACA  \\\n",
       "Cbln2                       66.0                    13.0   \n",
       "Ptchd2                       1.0                     2.0   \n",
       "P2rx2                       16.0                     7.0   \n",
       "Ptger4                       0.0                     0.0   \n",
       "Fam19a1                     20.0                     4.0   \n",
       "...                          ...                     ...   \n",
       "BC051537                     0.0                     0.0   \n",
       "Gm15518                      0.0                     0.0   \n",
       "Mmadhc                       1.0                     0.0   \n",
       "Med27                        2.0                     0.0   \n",
       "Psmc6                        1.0                     1.0   \n",
       "\n",
       "          10X82_2:GCCAGGTAGGACAC  10X81_2:AGATCAGTCCGTAT  ...  \\\n",
       "Cbln2                       22.0                    45.0  ...   \n",
       "Ptchd2                       0.0                     0.0  ...   \n",
       "P2rx2                       14.0                     9.0  ...   \n",
       "Ptger4                       1.0                     1.0  ...   \n",
       "Fam19a1                     16.0                    18.0  ...   \n",
       "...                          ...                     ...  ...   \n",
       "BC051537                     0.0                     0.0  ...   \n",
       "Gm15518                      0.0                     0.0  ...   \n",
       "Mmadhc                       1.0                     1.0  ...   \n",
       "Med27                        0.0                     0.0  ...   \n",
       "Psmc6                        2.0                     3.0  ...   \n",
       "\n",
       "          10X53_7:TATGTCTGAGAGGC  10X43_2:TTCAGTTGCTTGGA  \\\n",
       "Cbln2                        0.0                     0.0   \n",
       "Ptchd2                       0.0                     0.0   \n",
       "P2rx2                        0.0                     3.0   \n",
       "Ptger4                       0.0                     0.0   \n",
       "Fam19a1                      0.0                     0.0   \n",
       "...                          ...                     ...   \n",
       "BC051537                     0.0                     0.0   \n",
       "Gm15518                      0.0                     0.0   \n",
       "Mmadhc                       0.0                     3.0   \n",
       "Med27                        0.0                     1.0   \n",
       "Psmc6                        1.0                     3.0   \n",
       "\n",
       "          10X43_2:CAAGTCGATCGTGA  10X43_2:ACGAAGCTTCGTAG  \\\n",
       "Cbln2                        0.0                     0.0   \n",
       "Ptchd2                       0.0                     0.0   \n",
       "P2rx2                        2.0                     6.0   \n",
       "Ptger4                       0.0                     0.0   \n",
       "Fam19a1                      0.0                     0.0   \n",
       "...                          ...                     ...   \n",
       "BC051537                     0.0                     5.0   \n",
       "Gm15518                      0.0                     0.0   \n",
       "Mmadhc                       1.0                     2.0   \n",
       "Med27                        0.0                     0.0   \n",
       "Psmc6                        2.0                     3.0   \n",
       "\n",
       "          10X43_2:TACCATTGGGCAAG  10X43_2:GGTACAACAGTCGT  \\\n",
       "Cbln2                        0.0                     0.0   \n",
       "Ptchd2                       0.0                     0.0   \n",
       "P2rx2                        8.0                     3.0   \n",
       "Ptger4                       0.0                     0.0   \n",
       "Fam19a1                      0.0                     0.0   \n",
       "...                          ...                     ...   \n",
       "BC051537                     0.0                     2.0   \n",
       "Gm15518                      0.0                     0.0   \n",
       "Mmadhc                       0.0                     0.0   \n",
       "Med27                        0.0                     0.0   \n",
       "Psmc6                        1.0                     7.0   \n",
       "\n",
       "          10X43_2:TAATGATGGGTTAC  10X43_2:CTGCAGCTTAGAGA  \\\n",
       "Cbln2                        0.0                     0.0   \n",
       "Ptchd2                       0.0                     0.0   \n",
       "P2rx2                        1.0                     2.0   \n",
       "Ptger4                       0.0                     1.0   \n",
       "Fam19a1                      0.0                     0.0   \n",
       "...                          ...                     ...   \n",
       "BC051537                     2.0                     8.0   \n",
       "Gm15518                      1.0                     0.0   \n",
       "Mmadhc                       2.0                     2.0   \n",
       "Med27                        1.0                     0.0   \n",
       "Psmc6                        3.0                     8.0   \n",
       "\n",
       "          10X53_7:XXGCGATGGGAGGT  10X43_2:CCTTAATGGGGCAA  \n",
       "Cbln2                        0.0                     0.0  \n",
       "Ptchd2                       0.0                     0.0  \n",
       "P2rx2                        2.0                     2.0  \n",
       "Ptger4                       0.0                     1.0  \n",
       "Fam19a1                      0.0                     0.0  \n",
       "...                          ...                     ...  \n",
       "BC051537                     0.0                     2.0  \n",
       "Gm15518                      0.0                     0.0  \n",
       "Mmadhc                       3.0                     3.0  \n",
       "Med27                        0.0                     1.0  \n",
       "Psmc6                       11.0                     3.0  \n",
       "\n",
       "[27998 rows x 160796 columns]"
      ]
     },
     "execution_count": 26,
     "metadata": {},
     "output_type": "execute_result"
    }
   ],
   "source": [
    "ex_matrix = pd.DataFrame(m, columns = cell_names, index = gene_names)\n",
    "ex_matrix"
   ]
  },
  {
   "cell_type": "code",
   "execution_count": 27,
   "id": "ce400181",
   "metadata": {},
   "outputs": [
    {
     "name": "stdout",
     "output_type": "stream",
     "text": [
      "['Ndufa10', 'Ndufb3', 'Ndufa3', 'Uqcrh', 'Ppa2', 'Ndufa12', 'Uqcrfs1', 'Cycs', 'Cox7a1', 'Ndufa2', 'Ndufs6', 'Ndufb10', 'Ndufs5', 'mt-Nd4l', 'Uqcrc2', 'Atp6v1a', 'Atp6v1h', 'Ndufa4', 'Ndufs1', 'Atp5g3', 'Atp6v0d2', 'Uqcrb', 'Atp5a1', 'Atp6v0a2', 'Atp12a', 'Cox6b2', 'Cox7c', 'Ndufb5', 'Ndufa4l2', 'mt-Nd5', 'Ndufb7', 'Atp6v1f', 'Cox6a1', 'Atp5c1', 'Cox10', 'mt-Cytb', 'Ndufa11', 'Atp5h', 'Ndufa8', 'mt-Nd3', 'Ndufv2', 'mt-Co3', 'Atp6v0a1', 'Uqcrc1', 'Ndufa1', 'Atp5f1', 'mt-Co2', 'Atp6v1e1', 'Atp6v1c1', 'Cox4i2', 'Atp6v1c2', 'Ndufa9', 'Ndufa6', 'Ndufb2', 'Ndufb6', 'Cox5a', 'mt-Atp8', 'mt-Nd4', 'Sdha', 'Lhpp', 'Atp6v0b', 'Atp5g1', 'Atp4b', 'Cox7b2', 'Ndufa7', 'Atp6v1d', 'Atp6v0e', 'Atp6v0d1', 'Cox11', 'Cox6b1', 'Atp5l', 'Atp6v1b1', 'Cox17', 'Ndufb11', 'mt-Nd2', 'Cox5b', 'Cox7a2l', 'mt-Nd1', 'Atp5d', 'mt-Co1', 'Ndufs4', 'Atp5o', 'Atp6ap1', 'Cox15', 'Cox8a', 'Atp5g2', 'Sdhb', 'Cox7a2', 'Cox8c', 'Cox4i1', 'Uqcr11', 'Atp6v1g1', 'mt-Atp6', 'Uqcrq', 'Ndufa5', 'Ndufab1', 'Ndufs3', 'Ndufv1', 'Atp6v1b2', 'Tcirg1', 'Atp5k', 'Ndufv3', 'Ndufs7', 'Sdhd', 'Ppa1', 'Cyct', 'Atp5e', 'Cox6c', 'Ndufb8', 'Cox7b', 'Atp5b', 'Atp6v0c', 'Atp4a', 'Ndufc2', 'Atp6v1e2', 'Atp5j2', 'Sdhc', 'Atp6v0a4', 'Cox6a2', 'Atp6v0e2', 'Ndufa13', 'Cyc1', 'Cox8b', 'Atp6v1g2', 'mt-Nd6', 'Ndufs2', 'Ndufb4', 'Ndufc1', 'Uqcr10', 'Ndufb9', 'Atp6v1g3', 'Atp5j', 'Ndufs8']\n"
     ]
    }
   ],
   "source": [
    "# Compute the intersection\n",
    "intersection = list(set(gene_names).intersection(set(data_genes)))\n",
    "print(intersection)"
   ]
  },
  {
   "cell_type": "code",
   "execution_count": 28,
   "id": "709e966d",
   "metadata": {},
   "outputs": [
    {
     "data": {
      "text/plain": [
       "133"
      ]
     },
     "execution_count": 28,
     "metadata": {},
     "output_type": "execute_result"
    }
   ],
   "source": [
    "len(intersection)"
   ]
  },
  {
   "cell_type": "code",
   "execution_count": 30,
   "id": "b90fa075-d45b-49dd-a603-bacade025704",
   "metadata": {},
   "outputs": [
    {
     "name": "stdout",
     "output_type": "stream",
     "text": [
      "['Ndufab1-ps', 'Gm11633', 'Ndufb4b', 'Ndufb4c', 'Ndufs6b', 'Gm6293', 'Ndufb1', 'Gm19340']\n"
     ]
    }
   ],
   "source": [
    "# Compute the genes that don't overlap in the other direction\n",
    "difference_reverse = list(set(data_genes).difference(set(gene_names)))\n",
    "print(difference_reverse)"
   ]
  },
  {
   "cell_type": "markdown",
   "id": "1093ea54-61e9-4767-96f6-168aa0c6deb9",
   "metadata": {},
   "source": [
    "These 8 genes are missing from the dataset."
   ]
  },
  {
   "cell_type": "code",
   "execution_count": 31,
   "id": "a0884472",
   "metadata": {},
   "outputs": [],
   "source": [
    "# Run AUCell\n",
    "# 1. Rankings (~2mn)\n",
    "rnk_mtx = create_rankings(ex_matrix.transpose(), seed=42)"
   ]
  },
  {
   "cell_type": "code",
   "execution_count": 32,
   "id": "5244ef96",
   "metadata": {},
   "outputs": [
    {
     "data": {
      "text/html": [
       "<div>\n",
       "<style scoped>\n",
       "    .dataframe tbody tr th:only-of-type {\n",
       "        vertical-align: middle;\n",
       "    }\n",
       "\n",
       "    .dataframe tbody tr th {\n",
       "        vertical-align: top;\n",
       "    }\n",
       "\n",
       "    .dataframe thead th {\n",
       "        text-align: right;\n",
       "    }\n",
       "</style>\n",
       "<table border=\"1\" class=\"dataframe\">\n",
       "  <thead>\n",
       "    <tr style=\"text-align: right;\">\n",
       "      <th></th>\n",
       "      <th></th>\n",
       "      <th>AUC</th>\n",
       "    </tr>\n",
       "    <tr>\n",
       "      <th>Cell</th>\n",
       "      <th>Regulon</th>\n",
       "      <th></th>\n",
       "    </tr>\n",
       "  </thead>\n",
       "  <tbody>\n",
       "    <tr>\n",
       "      <th>10X82_2:TCTCTCACCAGTTA</th>\n",
       "      <th>KEGG mmu00190 - Oxidative phosphorylation</th>\n",
       "      <td>0.300892</td>\n",
       "    </tr>\n",
       "    <tr>\n",
       "      <th>10X82_2:TATTATCTACCAGA</th>\n",
       "      <th>KEGG mmu00190 - Oxidative phosphorylation</th>\n",
       "      <td>0.278340</td>\n",
       "    </tr>\n",
       "    <tr>\n",
       "      <th>10X82_2:TATCCCAGATGGCA</th>\n",
       "      <th>KEGG mmu00190 - Oxidative phosphorylation</th>\n",
       "      <td>0.305011</td>\n",
       "    </tr>\n",
       "    <tr>\n",
       "      <th>10X82_2:ATTACGTATGAATG</th>\n",
       "      <th>KEGG mmu00190 - Oxidative phosphorylation</th>\n",
       "      <td>0.341160</td>\n",
       "    </tr>\n",
       "    <tr>\n",
       "      <th>10X82_2:ATACGTCAATAAGG</th>\n",
       "      <th>KEGG mmu00190 - Oxidative phosphorylation</th>\n",
       "      <td>0.338276</td>\n",
       "    </tr>\n",
       "    <tr>\n",
       "      <th>...</th>\n",
       "      <th>...</th>\n",
       "      <td>...</td>\n",
       "    </tr>\n",
       "    <tr>\n",
       "      <th>10X43_2:GGTACAACAGTCGT</th>\n",
       "      <th>KEGG mmu00190 - Oxidative phosphorylation</th>\n",
       "      <td>0.424012</td>\n",
       "    </tr>\n",
       "    <tr>\n",
       "      <th>10X43_2:TAATGATGGGTTAC</th>\n",
       "      <th>KEGG mmu00190 - Oxidative phosphorylation</th>\n",
       "      <td>0.415752</td>\n",
       "    </tr>\n",
       "    <tr>\n",
       "      <th>10X43_2:CTGCAGCTTAGAGA</th>\n",
       "      <th>KEGG mmu00190 - Oxidative phosphorylation</th>\n",
       "      <td>0.378872</td>\n",
       "    </tr>\n",
       "    <tr>\n",
       "      <th>10X53_7:XXGCGATGGGAGGT</th>\n",
       "      <th>KEGG mmu00190 - Oxidative phosphorylation</th>\n",
       "      <td>0.348867</td>\n",
       "    </tr>\n",
       "    <tr>\n",
       "      <th>10X43_2:CCTTAATGGGGCAA</th>\n",
       "      <th>KEGG mmu00190 - Oxidative phosphorylation</th>\n",
       "      <td>0.396300</td>\n",
       "    </tr>\n",
       "  </tbody>\n",
       "</table>\n",
       "<p>160796 rows × 1 columns</p>\n",
       "</div>"
      ],
      "text/plain": [
       "                                                                       AUC\n",
       "Cell                   Regulon                                            \n",
       "10X82_2:TCTCTCACCAGTTA KEGG mmu00190 - Oxidative phosphorylation  0.300892\n",
       "10X82_2:TATTATCTACCAGA KEGG mmu00190 - Oxidative phosphorylation  0.278340\n",
       "10X82_2:TATCCCAGATGGCA KEGG mmu00190 - Oxidative phosphorylation  0.305011\n",
       "10X82_2:ATTACGTATGAATG KEGG mmu00190 - Oxidative phosphorylation  0.341160\n",
       "10X82_2:ATACGTCAATAAGG KEGG mmu00190 - Oxidative phosphorylation  0.338276\n",
       "...                                                                    ...\n",
       "10X43_2:GGTACAACAGTCGT KEGG mmu00190 - Oxidative phosphorylation  0.424012\n",
       "10X43_2:TAATGATGGGTTAC KEGG mmu00190 - Oxidative phosphorylation  0.415752\n",
       "10X43_2:CTGCAGCTTAGAGA KEGG mmu00190 - Oxidative phosphorylation  0.378872\n",
       "10X53_7:XXGCGATGGGAGGT KEGG mmu00190 - Oxidative phosphorylation  0.348867\n",
       "10X43_2:CCTTAATGGGGCAA KEGG mmu00190 - Oxidative phosphorylation  0.396300\n",
       "\n",
       "[160796 rows x 1 columns]"
      ]
     },
     "execution_count": 32,
     "metadata": {},
     "output_type": "execute_result"
    }
   ],
   "source": [
    "# 2. Enrichment (~5s)\n",
    "aucs = enrichment(rnk_mtx, gs)\n",
    "aucs"
   ]
  },
  {
   "cell_type": "code",
   "execution_count": 33,
   "id": "8a2d79f1",
   "metadata": {},
   "outputs": [
    {
     "data": {
      "text/plain": [
       "0.034591836734693876"
      ]
     },
     "execution_count": 33,
     "metadata": {},
     "output_type": "execute_result"
    }
   ],
   "source": [
    "min(aucs[\"AUC\"])"
   ]
  },
  {
   "cell_type": "code",
   "execution_count": 34,
   "id": "382e224b",
   "metadata": {},
   "outputs": [
    {
     "data": {
      "text/plain": [
       "0.5976906552094522"
      ]
     },
     "execution_count": 34,
     "metadata": {},
     "output_type": "execute_result"
    }
   ],
   "source": [
    "max(aucs[\"AUC\"])"
   ]
  },
  {
   "cell_type": "code",
   "execution_count": 35,
   "id": "6aec55cb",
   "metadata": {},
   "outputs": [],
   "source": [
    "# Save DataFrame to TSV file\n",
    "aucs.to_csv(\"/data/gardeux/Neuro_Droso_ND75KD/data/Linnarsson_133_Oxphos_AUCell_auc.tsv\", sep='\\t', index=True)"
   ]
  }
 ],
 "metadata": {
  "kernelspec": {
   "display_name": "Python 3.11 (SCENIC+)",
   "language": "python",
   "name": "python3_11"
  },
  "language_info": {
   "codemirror_mode": {
    "name": "ipython",
    "version": 3
   },
   "file_extension": ".py",
   "mimetype": "text/x-python",
   "name": "python",
   "nbconvert_exporter": "python",
   "pygments_lexer": "ipython3",
   "version": "3.11.10"
  }
 },
 "nbformat": 4,
 "nbformat_minor": 5
}
