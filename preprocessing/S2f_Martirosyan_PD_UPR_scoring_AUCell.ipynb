{
 "cells": [
  {
   "attachments": {},
   "cell_type": "markdown",
   "id": "8442a84a-beb4-4b5d-b4f5-425e9cbf7613",
   "metadata": {},
   "source": [
    "# GSE243639 - Martirosyan - AUCell UPR scoring\n",
    "*This script is to be run before the Rmd script, for computing the AUC values with pySCENIC* \n",
    "\n",
    "**Author:** Vincent Gardeux\n",
    "\n",
    "**Date Created:** 04/03/2025\n",
    "**Date Last Modified:** 04/03/2025"
   ]
  },
  {
   "cell_type": "code",
   "execution_count": 1,
   "id": "74ceeacd-020d-4f8f-9d2e-1a076f326eaf",
   "metadata": {},
   "outputs": [],
   "source": [
    "# import dependencies\n",
    "import pandas as pd\n",
    "import polars as pl\n",
    "import numpy as np\n",
    "from ctxcore.genesig import GeneSignature\n",
    "from pyscenic.aucell import create_rankings, enrichment"
   ]
  },
  {
   "cell_type": "code",
   "execution_count": 2,
   "id": "e8c0d22b",
   "metadata": {},
   "outputs": [],
   "source": [
    "GENE_SIGNATURE_FNAME = '/data/gardeux/Neuro_Droso_ND75KD/data/UPR_genes_REACTOME_human.txt' # From https://www.gsea-msigdb.org/gsea/msigdb/human/geneset/REACTOME_UNFOLDED_PROTEIN_RESPONSE_UPR.html\n",
    "GENE_SIGNATURE_SNAME = '93 UPR genes' # All are present in Martirosyan's data\n",
    "EXPRESSION_MTX_FNAME = '/data/gardeux/Neuro_Droso_ND75KD/data/Martirosyan_2024/GSE243639_Filtered_count_table.csv.gz' # From https://www.ncbi.nlm.nih.gov/geo/query/acc.cgi?acc=GSE243639"
   ]
  },
  {
   "cell_type": "code",
   "execution_count": 3,
   "id": "f72fb6da",
   "metadata": {},
   "outputs": [
    {
     "data": {
      "text/plain": [
       "GeneSignature(name='REACTOME - UNFOLDED PROTEIN RESPONSE (UPR)', gene2weight=frozendict.frozendict({'ACADVL': 1.0, 'ADD1': 1.0, 'ARFGAP1': 1.0, 'ASNS': 1.0, 'ATF3': 1.0, 'ATF4': 1.0, 'ATF6': 1.0, 'ATF6B': 1.0, 'ATP6V0D1': 1.0, 'CALR': 1.0, 'CCL2': 1.0, 'CEBPB': 1.0, 'CEBPG': 1.0, 'CREB3': 1.0, 'CREB3L1': 1.0, 'CREB3L2': 1.0, 'CREB3L3': 1.0, 'CREB3L4': 1.0, 'CREBRF': 1.0, 'CTDSP2': 1.0, 'CUL7': 1.0, 'CXCL8': 1.0, 'CXXC1': 1.0, 'DCP2': 1.0, 'DCSTAMP': 1.0, 'DCTN1': 1.0, 'DDIT3': 1.0, 'DDX11': 1.0, 'DIS3': 1.0, 'DNAJB11': 1.0, 'DNAJB9': 1.0, 'DNAJC3': 1.0, 'EDEM1': 1.0, 'EIF2AK3': 1.0, 'EIF2S1': 1.0, 'EIF2S2': 1.0, 'EIF2S3': 1.0, 'ERN1': 1.0, 'EXOSC1': 1.0, 'EXOSC2': 1.0, 'EXOSC3': 1.0, 'EXOSC4': 1.0, 'EXOSC5': 1.0, 'EXOSC6': 1.0, 'EXOSC7': 1.0, 'EXOSC8': 1.0, 'EXOSC9': 1.0, 'EXTL1': 1.0, 'EXTL2': 1.0, 'EXTL3': 1.0, 'FKBP14': 1.0, 'GFPT1': 1.0, 'GOSR2': 1.0, 'GSK3A': 1.0, 'HDGF': 1.0, 'HERPUD1': 1.0, 'HSP90B1': 1.0, 'HSPA5': 1.0, 'HYOU1': 1.0, 'IGFBP1': 1.0, 'KDELR3': 1.0, 'KHSRP': 1.0, 'KLHDC3': 1.0, 'LMNA': 1.0, 'MBTPS1': 1.0, 'MBTPS2': 1.0, 'MYDGF': 1.0, 'NFYA': 1.0, 'NFYB': 1.0, 'NFYC': 1.0, 'PARN': 1.0, 'PDIA5': 1.0, 'PDIA6': 1.0, 'PLA2G4B': 1.0, 'PPP2R5B': 1.0, 'PREB': 1.0, 'SEC31A': 1.0, 'SERP1': 1.0, 'SHC1': 1.0, 'SRPRA': 1.0, 'SRPRB': 1.0, 'SSR1': 1.0, 'SULT1A3': 1.0, 'SYVN1': 1.0, 'TATDN2': 1.0, 'TLN1': 1.0, 'TPP1': 1.0, 'TSPYL2': 1.0, 'WFS1': 1.0, 'WIPI1': 1.0, 'XBP1': 1.0, 'YIF1A': 1.0, 'ZBTB17': 1.0}))"
      ]
     },
     "execution_count": 3,
     "metadata": {},
     "output_type": "execute_result"
    }
   ],
   "source": [
    "data_genes = pd.read_csv(filepath_or_buffer=GENE_SIGNATURE_FNAME, header=None)[0].tolist()\n",
    "gs = GeneSignature('REACTOME - UNFOLDED PROTEIN RESPONSE (UPR)', data_genes)\n",
    "gs"
   ]
  },
  {
   "cell_type": "code",
   "execution_count": 4,
   "id": "76cf3643-b72c-4da2-85bd-a80eede5d187",
   "metadata": {},
   "outputs": [
    {
     "data": {
      "text/plain": [
       "93"
      ]
     },
     "execution_count": 4,
     "metadata": {},
     "output_type": "execute_result"
    }
   ],
   "source": [
    "len(gs)"
   ]
  },
  {
   "cell_type": "code",
   "execution_count": 5,
   "id": "5dd9a0a4-1c41-4c88-9c96-577d6dd343d8",
   "metadata": {},
   "outputs": [
    {
     "data": {
      "text/html": [
       "<div><style>\n",
       ".dataframe > thead > tr,\n",
       ".dataframe > tbody > tr {\n",
       "  text-align: right;\n",
       "  white-space: pre-wrap;\n",
       "}\n",
       "</style>\n",
       "<small>shape: (33_537, 83_485)</small><table border=\"1\" class=\"dataframe\"><thead><tr><th></th><th>s.0096_AAACCCAAGTACGAGC.1</th><th>s.0096_AAACCCACACAGCGCT.1</th><th>s.0096_AAACCCACAGATAAAC.1</th><th>s.0096_AAACCCAGTCCGGATC.1</th><th>s.0096_AAACCCAGTCTCTCAC.1</th><th>s.0096_AAACCCAGTGAATTGA.1</th><th>s.0096_AAACCCAGTTTACGAC.1</th><th>s.0096_AAACCCATCATGGAGG.1</th><th>s.0096_AAACCCATCCGTGCGA.1</th><th>s.0096_AAACCCATCGCGAAGA.1</th><th>s.0096_AAACCCATCTCCTGTG.1</th><th>s.0096_AAACGAACAATCGCGC.1</th><th>s.0096_AAACGAACACGGTGTC.1</th><th>s.0096_AAACGAATCACATCAG.1</th><th>s.0096_AAACGAATCTACCCAC.1</th><th>s.0096_AAACGCTAGACGACTG.1</th><th>s.0096_AAACGCTCATCGGTTA.1</th><th>s.0096_AAACGCTTCACGAACT.1</th><th>s.0096_AAACGCTTCGGAGTAG.1</th><th>s.0096_AAAGAACAGAGTTGTA.1</th><th>s.0096_AAAGAACCATAATCGC.1</th><th>s.0096_AAAGGATAGACGATAT.1</th><th>s.0096_AAAGGATAGTAAAGCT.1</th><th>s.0096_AAAGGATCACGACAGA.1</th><th>s.0096_AAAGGATGTAACGGTG.1</th><th>s.0096_AAAGGATGTAGCTGTT.1</th><th>s.0096_AAAGGATTCACAAGAA.1</th><th>s.0096_AAAGGGCAGGCCTTGC.1</th><th>s.0096_AAAGGGCCAAGACGAC.1</th><th>s.0096_AAAGGGCGTCGTTCAA.1</th><th>s.0096_AAAGGTAAGACTTAAG.1</th><th>s.0096_AAAGGTAGTATCTTCT.1</th><th>s.0096_AAAGGTATCGCGATCG.1</th><th>s.0096_AAAGTCCAGAAATGGG.1</th><th>s.0096_AAAGTCCAGATACCAA.1</th><th>s.0096_AAAGTCCAGCATCTTG.1</th><th>&hellip;</th><th>s.0165_TTTACTGCATTGCTGA.1</th><th>s.0165_TTTACTGTCTGGTGGC.1</th><th>s.0165_TTTAGTCCAAGCGCAA.1</th><th>s.0165_TTTAGTCCAATAGTCC.1</th><th>s.0165_TTTAGTCTCCCAACTC.1</th><th>s.0165_TTTAGTCTCGGAAGGT.1</th><th>s.0165_TTTATGCTCCGTAGTA.1</th><th>s.0165_TTTCACAAGGGCCAAT.1</th><th>s.0165_TTTCACAAGTCACTGT.1</th><th>s.0165_TTTCACACAAAGGCTG.1</th><th>s.0165_TTTCAGTAGGATACCG.1</th><th>s.0165_TTTCAGTAGGTTTGAA.1</th><th>s.0165_TTTCAGTGTCTTCCGT.1</th><th>s.0165_TTTCATGAGAGATTCA.1</th><th>s.0165_TTTCATGAGCGACTGA.1</th><th>s.0165_TTTCATGAGGGACCAT.1</th><th>s.0165_TTTCATGCACCAGCCA.1</th><th>s.0165_TTTCATGTCGCCTCTA.1</th><th>s.0165_TTTCATGTCGGCATTA.1</th><th>s.0165_TTTCCTCTCGTTGTAG.1</th><th>s.0165_TTTCGATCATCAGCGC.1</th><th>s.0165_TTTCGATTCGGTCATA.1</th><th>s.0165_TTTGACTAGAGCATAT.1</th><th>s.0165_TTTGACTCAATGTCTG.1</th><th>s.0165_TTTGACTGTGATTCTG.1</th><th>s.0165_TTTGACTTCCATCTCG.1</th><th>s.0165_TTTGATCAGGTCCGAA.1</th><th>s.0165_TTTGATCCAGAGGTTG.1</th><th>s.0165_TTTGGTTAGCGCCTTG.1</th><th>s.0165_TTTGGTTCAAACTAAG.1</th><th>s.0165_TTTGGTTCATGCCGGT.1</th><th>s.0165_TTTGGTTGTAGAGATT.1</th><th>s.0165_TTTGGTTTCCGCCTAT.1</th><th>s.0165_TTTGGTTTCTCGTTTA.1</th><th>s.0165_TTTGTTGCAAGTTCGT.1</th><th>s.0165_TTTGTTGCATGTTCAG.1</th><th>s.0165_TTTGTTGCATTACTCT.1</th></tr><tr><td>str</td><td>i64</td><td>i64</td><td>i64</td><td>i64</td><td>i64</td><td>i64</td><td>i64</td><td>i64</td><td>i64</td><td>i64</td><td>i64</td><td>i64</td><td>i64</td><td>i64</td><td>i64</td><td>i64</td><td>i64</td><td>i64</td><td>i64</td><td>i64</td><td>i64</td><td>i64</td><td>i64</td><td>i64</td><td>i64</td><td>i64</td><td>i64</td><td>i64</td><td>i64</td><td>i64</td><td>i64</td><td>i64</td><td>i64</td><td>i64</td><td>i64</td><td>i64</td><td>&hellip;</td><td>i64</td><td>i64</td><td>i64</td><td>i64</td><td>i64</td><td>i64</td><td>i64</td><td>i64</td><td>i64</td><td>i64</td><td>i64</td><td>i64</td><td>i64</td><td>i64</td><td>i64</td><td>i64</td><td>i64</td><td>i64</td><td>i64</td><td>i64</td><td>i64</td><td>i64</td><td>i64</td><td>i64</td><td>i64</td><td>i64</td><td>i64</td><td>i64</td><td>i64</td><td>i64</td><td>i64</td><td>i64</td><td>i64</td><td>i64</td><td>i64</td><td>i64</td><td>i64</td></tr></thead><tbody><tr><td>&quot;MIR1302-2HG&quot;</td><td>0</td><td>0</td><td>0</td><td>0</td><td>0</td><td>0</td><td>0</td><td>0</td><td>0</td><td>0</td><td>0</td><td>0</td><td>0</td><td>0</td><td>0</td><td>0</td><td>0</td><td>0</td><td>0</td><td>0</td><td>0</td><td>0</td><td>0</td><td>0</td><td>0</td><td>0</td><td>0</td><td>0</td><td>0</td><td>0</td><td>0</td><td>0</td><td>0</td><td>0</td><td>0</td><td>0</td><td>&hellip;</td><td>0</td><td>0</td><td>0</td><td>0</td><td>0</td><td>0</td><td>0</td><td>0</td><td>0</td><td>0</td><td>0</td><td>0</td><td>0</td><td>0</td><td>0</td><td>0</td><td>0</td><td>0</td><td>0</td><td>0</td><td>0</td><td>0</td><td>0</td><td>0</td><td>0</td><td>0</td><td>0</td><td>0</td><td>0</td><td>0</td><td>0</td><td>0</td><td>0</td><td>0</td><td>0</td><td>0</td><td>0</td></tr><tr><td>&quot;FAM138A&quot;</td><td>0</td><td>0</td><td>0</td><td>0</td><td>0</td><td>0</td><td>0</td><td>0</td><td>0</td><td>0</td><td>0</td><td>0</td><td>0</td><td>0</td><td>0</td><td>0</td><td>0</td><td>0</td><td>0</td><td>0</td><td>0</td><td>0</td><td>0</td><td>0</td><td>0</td><td>0</td><td>0</td><td>0</td><td>0</td><td>0</td><td>0</td><td>0</td><td>0</td><td>0</td><td>0</td><td>0</td><td>&hellip;</td><td>0</td><td>0</td><td>0</td><td>0</td><td>0</td><td>0</td><td>0</td><td>0</td><td>0</td><td>0</td><td>0</td><td>0</td><td>0</td><td>0</td><td>0</td><td>0</td><td>0</td><td>0</td><td>0</td><td>0</td><td>0</td><td>0</td><td>0</td><td>0</td><td>0</td><td>0</td><td>0</td><td>0</td><td>0</td><td>0</td><td>0</td><td>0</td><td>0</td><td>0</td><td>0</td><td>0</td><td>0</td></tr><tr><td>&quot;OR4F5&quot;</td><td>0</td><td>0</td><td>0</td><td>0</td><td>0</td><td>0</td><td>0</td><td>0</td><td>0</td><td>0</td><td>0</td><td>0</td><td>0</td><td>0</td><td>0</td><td>0</td><td>0</td><td>0</td><td>0</td><td>0</td><td>0</td><td>0</td><td>0</td><td>0</td><td>0</td><td>0</td><td>0</td><td>0</td><td>0</td><td>0</td><td>0</td><td>0</td><td>0</td><td>0</td><td>0</td><td>0</td><td>&hellip;</td><td>0</td><td>0</td><td>0</td><td>0</td><td>0</td><td>0</td><td>0</td><td>0</td><td>0</td><td>0</td><td>0</td><td>0</td><td>0</td><td>0</td><td>0</td><td>0</td><td>0</td><td>0</td><td>0</td><td>0</td><td>0</td><td>0</td><td>0</td><td>0</td><td>0</td><td>0</td><td>0</td><td>0</td><td>0</td><td>0</td><td>0</td><td>0</td><td>0</td><td>0</td><td>0</td><td>0</td><td>0</td></tr><tr><td>&quot;AL627309.1&quot;</td><td>0</td><td>0</td><td>0</td><td>0</td><td>0</td><td>0</td><td>0</td><td>0</td><td>0</td><td>0</td><td>0</td><td>0</td><td>0</td><td>0</td><td>0</td><td>0</td><td>0</td><td>0</td><td>0</td><td>0</td><td>0</td><td>0</td><td>0</td><td>0</td><td>0</td><td>0</td><td>0</td><td>0</td><td>0</td><td>0</td><td>0</td><td>0</td><td>0</td><td>0</td><td>0</td><td>0</td><td>&hellip;</td><td>0</td><td>0</td><td>0</td><td>0</td><td>0</td><td>0</td><td>0</td><td>0</td><td>0</td><td>0</td><td>0</td><td>0</td><td>0</td><td>0</td><td>0</td><td>0</td><td>0</td><td>0</td><td>0</td><td>0</td><td>0</td><td>0</td><td>0</td><td>0</td><td>0</td><td>0</td><td>0</td><td>0</td><td>0</td><td>0</td><td>0</td><td>0</td><td>0</td><td>0</td><td>0</td><td>0</td><td>0</td></tr><tr><td>&quot;AL627309.3&quot;</td><td>0</td><td>0</td><td>0</td><td>0</td><td>0</td><td>0</td><td>0</td><td>0</td><td>0</td><td>0</td><td>0</td><td>0</td><td>0</td><td>0</td><td>0</td><td>0</td><td>0</td><td>0</td><td>0</td><td>0</td><td>0</td><td>0</td><td>0</td><td>0</td><td>0</td><td>0</td><td>0</td><td>0</td><td>0</td><td>0</td><td>0</td><td>0</td><td>0</td><td>0</td><td>0</td><td>0</td><td>&hellip;</td><td>0</td><td>0</td><td>0</td><td>0</td><td>0</td><td>0</td><td>0</td><td>0</td><td>0</td><td>0</td><td>0</td><td>0</td><td>0</td><td>0</td><td>0</td><td>0</td><td>0</td><td>0</td><td>0</td><td>0</td><td>0</td><td>0</td><td>0</td><td>0</td><td>0</td><td>0</td><td>0</td><td>0</td><td>0</td><td>0</td><td>0</td><td>0</td><td>0</td><td>0</td><td>0</td><td>0</td><td>0</td></tr><tr><td>&hellip;</td><td>&hellip;</td><td>&hellip;</td><td>&hellip;</td><td>&hellip;</td><td>&hellip;</td><td>&hellip;</td><td>&hellip;</td><td>&hellip;</td><td>&hellip;</td><td>&hellip;</td><td>&hellip;</td><td>&hellip;</td><td>&hellip;</td><td>&hellip;</td><td>&hellip;</td><td>&hellip;</td><td>&hellip;</td><td>&hellip;</td><td>&hellip;</td><td>&hellip;</td><td>&hellip;</td><td>&hellip;</td><td>&hellip;</td><td>&hellip;</td><td>&hellip;</td><td>&hellip;</td><td>&hellip;</td><td>&hellip;</td><td>&hellip;</td><td>&hellip;</td><td>&hellip;</td><td>&hellip;</td><td>&hellip;</td><td>&hellip;</td><td>&hellip;</td><td>&hellip;</td><td>&hellip;</td><td>&hellip;</td><td>&hellip;</td><td>&hellip;</td><td>&hellip;</td><td>&hellip;</td><td>&hellip;</td><td>&hellip;</td><td>&hellip;</td><td>&hellip;</td><td>&hellip;</td><td>&hellip;</td><td>&hellip;</td><td>&hellip;</td><td>&hellip;</td><td>&hellip;</td><td>&hellip;</td><td>&hellip;</td><td>&hellip;</td><td>&hellip;</td><td>&hellip;</td><td>&hellip;</td><td>&hellip;</td><td>&hellip;</td><td>&hellip;</td><td>&hellip;</td><td>&hellip;</td><td>&hellip;</td><td>&hellip;</td><td>&hellip;</td><td>&hellip;</td><td>&hellip;</td><td>&hellip;</td><td>&hellip;</td><td>&hellip;</td><td>&hellip;</td><td>&hellip;</td><td>&hellip;</td></tr><tr><td>&quot;AC233755.2&quot;</td><td>0</td><td>0</td><td>0</td><td>0</td><td>0</td><td>0</td><td>0</td><td>0</td><td>0</td><td>0</td><td>0</td><td>0</td><td>0</td><td>0</td><td>0</td><td>0</td><td>0</td><td>0</td><td>0</td><td>0</td><td>0</td><td>0</td><td>0</td><td>0</td><td>0</td><td>0</td><td>0</td><td>0</td><td>0</td><td>0</td><td>0</td><td>0</td><td>0</td><td>0</td><td>0</td><td>0</td><td>&hellip;</td><td>0</td><td>0</td><td>0</td><td>0</td><td>0</td><td>0</td><td>0</td><td>0</td><td>0</td><td>0</td><td>0</td><td>0</td><td>0</td><td>0</td><td>0</td><td>0</td><td>0</td><td>0</td><td>0</td><td>0</td><td>0</td><td>0</td><td>0</td><td>0</td><td>0</td><td>0</td><td>0</td><td>0</td><td>0</td><td>0</td><td>0</td><td>0</td><td>0</td><td>0</td><td>0</td><td>0</td><td>0</td></tr><tr><td>&quot;AC233755.1&quot;</td><td>0</td><td>0</td><td>0</td><td>0</td><td>0</td><td>0</td><td>0</td><td>0</td><td>0</td><td>0</td><td>0</td><td>0</td><td>0</td><td>0</td><td>0</td><td>0</td><td>0</td><td>0</td><td>0</td><td>0</td><td>0</td><td>0</td><td>0</td><td>0</td><td>0</td><td>0</td><td>0</td><td>0</td><td>0</td><td>0</td><td>0</td><td>0</td><td>0</td><td>0</td><td>0</td><td>0</td><td>&hellip;</td><td>0</td><td>0</td><td>0</td><td>0</td><td>0</td><td>0</td><td>0</td><td>0</td><td>0</td><td>0</td><td>0</td><td>0</td><td>0</td><td>0</td><td>0</td><td>0</td><td>0</td><td>0</td><td>0</td><td>0</td><td>0</td><td>0</td><td>0</td><td>0</td><td>0</td><td>0</td><td>0</td><td>0</td><td>0</td><td>0</td><td>0</td><td>0</td><td>0</td><td>0</td><td>0</td><td>0</td><td>0</td></tr><tr><td>&quot;AC240274.1&quot;</td><td>0</td><td>0</td><td>0</td><td>0</td><td>0</td><td>0</td><td>0</td><td>0</td><td>0</td><td>0</td><td>0</td><td>1</td><td>0</td><td>0</td><td>0</td><td>0</td><td>0</td><td>0</td><td>0</td><td>0</td><td>0</td><td>0</td><td>0</td><td>0</td><td>0</td><td>0</td><td>0</td><td>0</td><td>0</td><td>0</td><td>0</td><td>0</td><td>0</td><td>0</td><td>0</td><td>0</td><td>&hellip;</td><td>0</td><td>0</td><td>0</td><td>0</td><td>0</td><td>0</td><td>0</td><td>0</td><td>0</td><td>0</td><td>0</td><td>0</td><td>0</td><td>0</td><td>0</td><td>0</td><td>0</td><td>0</td><td>0</td><td>0</td><td>0</td><td>0</td><td>0</td><td>0</td><td>0</td><td>1</td><td>0</td><td>0</td><td>0</td><td>0</td><td>0</td><td>0</td><td>0</td><td>0</td><td>0</td><td>0</td><td>0</td></tr><tr><td>&quot;AC213203.1&quot;</td><td>0</td><td>0</td><td>0</td><td>0</td><td>0</td><td>0</td><td>0</td><td>0</td><td>0</td><td>0</td><td>0</td><td>0</td><td>0</td><td>0</td><td>0</td><td>0</td><td>0</td><td>0</td><td>0</td><td>0</td><td>0</td><td>0</td><td>0</td><td>0</td><td>0</td><td>0</td><td>0</td><td>0</td><td>0</td><td>0</td><td>0</td><td>0</td><td>0</td><td>0</td><td>0</td><td>0</td><td>&hellip;</td><td>0</td><td>0</td><td>0</td><td>0</td><td>0</td><td>0</td><td>0</td><td>0</td><td>0</td><td>0</td><td>0</td><td>0</td><td>0</td><td>0</td><td>0</td><td>0</td><td>0</td><td>0</td><td>0</td><td>0</td><td>0</td><td>0</td><td>0</td><td>0</td><td>0</td><td>0</td><td>0</td><td>0</td><td>0</td><td>0</td><td>0</td><td>0</td><td>0</td><td>0</td><td>0</td><td>0</td><td>0</td></tr><tr><td>&quot;FAM231C&quot;</td><td>0</td><td>0</td><td>0</td><td>0</td><td>0</td><td>0</td><td>0</td><td>0</td><td>0</td><td>0</td><td>0</td><td>0</td><td>0</td><td>0</td><td>0</td><td>0</td><td>0</td><td>0</td><td>0</td><td>0</td><td>0</td><td>0</td><td>0</td><td>0</td><td>0</td><td>0</td><td>0</td><td>0</td><td>0</td><td>0</td><td>0</td><td>0</td><td>0</td><td>0</td><td>0</td><td>0</td><td>&hellip;</td><td>0</td><td>0</td><td>0</td><td>0</td><td>0</td><td>0</td><td>0</td><td>0</td><td>0</td><td>0</td><td>0</td><td>0</td><td>0</td><td>0</td><td>0</td><td>0</td><td>0</td><td>0</td><td>0</td><td>0</td><td>0</td><td>0</td><td>0</td><td>0</td><td>0</td><td>0</td><td>0</td><td>0</td><td>0</td><td>0</td><td>0</td><td>0</td><td>0</td><td>0</td><td>0</td><td>0</td><td>0</td></tr></tbody></table></div>"
      ],
      "text/plain": [
       "shape: (33_537, 83_485)\n",
       "┌───────────┬───────────┬───────────┬───────────┬───┬───────────┬───────────┬───────────┬──────────┐\n",
       "│           ┆ s.0096_AA ┆ s.0096_AA ┆ s.0096_AA ┆ … ┆ s.0165_TT ┆ s.0165_TT ┆ s.0165_TT ┆ s.0165_T │\n",
       "│ ---       ┆ ACCCAAGTA ┆ ACCCACACA ┆ ACCCACAGA ┆   ┆ TGGTTTCTC ┆ TGTTGCAAG ┆ TGTTGCATG ┆ TTGTTGCA │\n",
       "│ str       ┆ CGAGC.1   ┆ GCGCT.1   ┆ TAAAC.1   ┆   ┆ GTTTA.1   ┆ TTCGT.1   ┆ TTCAG.1   ┆ TTACTCT. │\n",
       "│           ┆ ---       ┆ ---       ┆ ---       ┆   ┆ ---       ┆ ---       ┆ ---       ┆ 1        │\n",
       "│           ┆ i64       ┆ i64       ┆ i64       ┆   ┆ i64       ┆ i64       ┆ i64       ┆ ---      │\n",
       "│           ┆           ┆           ┆           ┆   ┆           ┆           ┆           ┆ i64      │\n",
       "╞═══════════╪═══════════╪═══════════╪═══════════╪═══╪═══════════╪═══════════╪═══════════╪══════════╡\n",
       "│ MIR1302-2 ┆ 0         ┆ 0         ┆ 0         ┆ … ┆ 0         ┆ 0         ┆ 0         ┆ 0        │\n",
       "│ HG        ┆           ┆           ┆           ┆   ┆           ┆           ┆           ┆          │\n",
       "│ FAM138A   ┆ 0         ┆ 0         ┆ 0         ┆ … ┆ 0         ┆ 0         ┆ 0         ┆ 0        │\n",
       "│ OR4F5     ┆ 0         ┆ 0         ┆ 0         ┆ … ┆ 0         ┆ 0         ┆ 0         ┆ 0        │\n",
       "│ AL627309. ┆ 0         ┆ 0         ┆ 0         ┆ … ┆ 0         ┆ 0         ┆ 0         ┆ 0        │\n",
       "│ 1         ┆           ┆           ┆           ┆   ┆           ┆           ┆           ┆          │\n",
       "│ AL627309. ┆ 0         ┆ 0         ┆ 0         ┆ … ┆ 0         ┆ 0         ┆ 0         ┆ 0        │\n",
       "│ 3         ┆           ┆           ┆           ┆   ┆           ┆           ┆           ┆          │\n",
       "│ …         ┆ …         ┆ …         ┆ …         ┆ … ┆ …         ┆ …         ┆ …         ┆ …        │\n",
       "│ AC233755. ┆ 0         ┆ 0         ┆ 0         ┆ … ┆ 0         ┆ 0         ┆ 0         ┆ 0        │\n",
       "│ 2         ┆           ┆           ┆           ┆   ┆           ┆           ┆           ┆          │\n",
       "│ AC233755. ┆ 0         ┆ 0         ┆ 0         ┆ … ┆ 0         ┆ 0         ┆ 0         ┆ 0        │\n",
       "│ 1         ┆           ┆           ┆           ┆   ┆           ┆           ┆           ┆          │\n",
       "│ AC240274. ┆ 0         ┆ 0         ┆ 0         ┆ … ┆ 0         ┆ 0         ┆ 0         ┆ 0        │\n",
       "│ 1         ┆           ┆           ┆           ┆   ┆           ┆           ┆           ┆          │\n",
       "│ AC213203. ┆ 0         ┆ 0         ┆ 0         ┆ … ┆ 0         ┆ 0         ┆ 0         ┆ 0        │\n",
       "│ 1         ┆           ┆           ┆           ┆   ┆           ┆           ┆           ┆          │\n",
       "│ FAM231C   ┆ 0         ┆ 0         ┆ 0         ┆ … ┆ 0         ┆ 0         ┆ 0         ┆ 0        │\n",
       "└───────────┴───────────┴───────────┴───────────┴───┴───────────┴───────────┴───────────┴──────────┘"
      ]
     },
     "execution_count": 5,
     "metadata": {},
     "output_type": "execute_result"
    }
   ],
   "source": [
    "# Open CSV count matrix\n",
    "m = pl.read_csv(EXPRESSION_MTX_FNAME)\n",
    "\n",
    "# Extract gene names (first column) and cell names (column headers)\n",
    "gene_names = m[:, 0].to_list()  # First column as list of strings\n",
    "cell_names = m.columns[1:]      # Column names (excluding first column)\n",
    "\n",
    "m"
   ]
  },
  {
   "cell_type": "code",
   "execution_count": 6,
   "id": "abab122e",
   "metadata": {},
   "outputs": [
    {
     "data": {
      "text/plain": [
       "(33537, 83485)"
      ]
     },
     "execution_count": 6,
     "metadata": {},
     "output_type": "execute_result"
    }
   ],
   "source": [
    "m.shape"
   ]
  },
  {
   "cell_type": "code",
   "execution_count": 7,
   "id": "64a72090",
   "metadata": {},
   "outputs": [
    {
     "data": {
      "text/plain": [
       "83484"
      ]
     },
     "execution_count": 7,
     "metadata": {},
     "output_type": "execute_result"
    }
   ],
   "source": [
    "len(cell_names)"
   ]
  },
  {
   "cell_type": "code",
   "execution_count": 8,
   "id": "774324a4",
   "metadata": {},
   "outputs": [
    {
     "data": {
      "text/plain": [
       "33537"
      ]
     },
     "execution_count": 8,
     "metadata": {},
     "output_type": "execute_result"
    }
   ],
   "source": [
    "len(gene_names)"
   ]
  },
  {
   "cell_type": "code",
   "execution_count": 9,
   "id": "e490973f",
   "metadata": {},
   "outputs": [
    {
     "data": {
      "text/html": [
       "<div>\n",
       "<style scoped>\n",
       "    .dataframe tbody tr th:only-of-type {\n",
       "        vertical-align: middle;\n",
       "    }\n",
       "\n",
       "    .dataframe tbody tr th {\n",
       "        vertical-align: top;\n",
       "    }\n",
       "\n",
       "    .dataframe thead th {\n",
       "        text-align: right;\n",
       "    }\n",
       "</style>\n",
       "<table border=\"1\" class=\"dataframe\">\n",
       "  <thead>\n",
       "    <tr style=\"text-align: right;\">\n",
       "      <th></th>\n",
       "      <th>s.0096_AAACCCAAGTACGAGC.1</th>\n",
       "      <th>s.0096_AAACCCACACAGCGCT.1</th>\n",
       "      <th>s.0096_AAACCCACAGATAAAC.1</th>\n",
       "      <th>s.0096_AAACCCAGTCCGGATC.1</th>\n",
       "      <th>s.0096_AAACCCAGTCTCTCAC.1</th>\n",
       "      <th>s.0096_AAACCCAGTGAATTGA.1</th>\n",
       "      <th>s.0096_AAACCCAGTTTACGAC.1</th>\n",
       "      <th>s.0096_AAACCCATCATGGAGG.1</th>\n",
       "      <th>s.0096_AAACCCATCCGTGCGA.1</th>\n",
       "      <th>s.0096_AAACCCATCGCGAAGA.1</th>\n",
       "      <th>...</th>\n",
       "      <th>s.0165_TTTGATCCAGAGGTTG.1</th>\n",
       "      <th>s.0165_TTTGGTTAGCGCCTTG.1</th>\n",
       "      <th>s.0165_TTTGGTTCAAACTAAG.1</th>\n",
       "      <th>s.0165_TTTGGTTCATGCCGGT.1</th>\n",
       "      <th>s.0165_TTTGGTTGTAGAGATT.1</th>\n",
       "      <th>s.0165_TTTGGTTTCCGCCTAT.1</th>\n",
       "      <th>s.0165_TTTGGTTTCTCGTTTA.1</th>\n",
       "      <th>s.0165_TTTGTTGCAAGTTCGT.1</th>\n",
       "      <th>s.0165_TTTGTTGCATGTTCAG.1</th>\n",
       "      <th>s.0165_TTTGTTGCATTACTCT.1</th>\n",
       "    </tr>\n",
       "  </thead>\n",
       "  <tbody>\n",
       "    <tr>\n",
       "      <th>MIR1302-2HG</th>\n",
       "      <td>0</td>\n",
       "      <td>0</td>\n",
       "      <td>0</td>\n",
       "      <td>0</td>\n",
       "      <td>0</td>\n",
       "      <td>0</td>\n",
       "      <td>0</td>\n",
       "      <td>0</td>\n",
       "      <td>0</td>\n",
       "      <td>0</td>\n",
       "      <td>...</td>\n",
       "      <td>0</td>\n",
       "      <td>0</td>\n",
       "      <td>0</td>\n",
       "      <td>0</td>\n",
       "      <td>0</td>\n",
       "      <td>0</td>\n",
       "      <td>0</td>\n",
       "      <td>0</td>\n",
       "      <td>0</td>\n",
       "      <td>0</td>\n",
       "    </tr>\n",
       "    <tr>\n",
       "      <th>FAM138A</th>\n",
       "      <td>0</td>\n",
       "      <td>0</td>\n",
       "      <td>0</td>\n",
       "      <td>0</td>\n",
       "      <td>0</td>\n",
       "      <td>0</td>\n",
       "      <td>0</td>\n",
       "      <td>0</td>\n",
       "      <td>0</td>\n",
       "      <td>0</td>\n",
       "      <td>...</td>\n",
       "      <td>0</td>\n",
       "      <td>0</td>\n",
       "      <td>0</td>\n",
       "      <td>0</td>\n",
       "      <td>0</td>\n",
       "      <td>0</td>\n",
       "      <td>0</td>\n",
       "      <td>0</td>\n",
       "      <td>0</td>\n",
       "      <td>0</td>\n",
       "    </tr>\n",
       "    <tr>\n",
       "      <th>OR4F5</th>\n",
       "      <td>0</td>\n",
       "      <td>0</td>\n",
       "      <td>0</td>\n",
       "      <td>0</td>\n",
       "      <td>0</td>\n",
       "      <td>0</td>\n",
       "      <td>0</td>\n",
       "      <td>0</td>\n",
       "      <td>0</td>\n",
       "      <td>0</td>\n",
       "      <td>...</td>\n",
       "      <td>0</td>\n",
       "      <td>0</td>\n",
       "      <td>0</td>\n",
       "      <td>0</td>\n",
       "      <td>0</td>\n",
       "      <td>0</td>\n",
       "      <td>0</td>\n",
       "      <td>0</td>\n",
       "      <td>0</td>\n",
       "      <td>0</td>\n",
       "    </tr>\n",
       "    <tr>\n",
       "      <th>AL627309.1</th>\n",
       "      <td>0</td>\n",
       "      <td>0</td>\n",
       "      <td>0</td>\n",
       "      <td>0</td>\n",
       "      <td>0</td>\n",
       "      <td>0</td>\n",
       "      <td>0</td>\n",
       "      <td>0</td>\n",
       "      <td>0</td>\n",
       "      <td>0</td>\n",
       "      <td>...</td>\n",
       "      <td>0</td>\n",
       "      <td>0</td>\n",
       "      <td>0</td>\n",
       "      <td>0</td>\n",
       "      <td>0</td>\n",
       "      <td>0</td>\n",
       "      <td>0</td>\n",
       "      <td>0</td>\n",
       "      <td>0</td>\n",
       "      <td>0</td>\n",
       "    </tr>\n",
       "    <tr>\n",
       "      <th>AL627309.3</th>\n",
       "      <td>0</td>\n",
       "      <td>0</td>\n",
       "      <td>0</td>\n",
       "      <td>0</td>\n",
       "      <td>0</td>\n",
       "      <td>0</td>\n",
       "      <td>0</td>\n",
       "      <td>0</td>\n",
       "      <td>0</td>\n",
       "      <td>0</td>\n",
       "      <td>...</td>\n",
       "      <td>0</td>\n",
       "      <td>0</td>\n",
       "      <td>0</td>\n",
       "      <td>0</td>\n",
       "      <td>0</td>\n",
       "      <td>0</td>\n",
       "      <td>0</td>\n",
       "      <td>0</td>\n",
       "      <td>0</td>\n",
       "      <td>0</td>\n",
       "    </tr>\n",
       "    <tr>\n",
       "      <th>...</th>\n",
       "      <td>...</td>\n",
       "      <td>...</td>\n",
       "      <td>...</td>\n",
       "      <td>...</td>\n",
       "      <td>...</td>\n",
       "      <td>...</td>\n",
       "      <td>...</td>\n",
       "      <td>...</td>\n",
       "      <td>...</td>\n",
       "      <td>...</td>\n",
       "      <td>...</td>\n",
       "      <td>...</td>\n",
       "      <td>...</td>\n",
       "      <td>...</td>\n",
       "      <td>...</td>\n",
       "      <td>...</td>\n",
       "      <td>...</td>\n",
       "      <td>...</td>\n",
       "      <td>...</td>\n",
       "      <td>...</td>\n",
       "      <td>...</td>\n",
       "    </tr>\n",
       "    <tr>\n",
       "      <th>AC233755.2</th>\n",
       "      <td>0</td>\n",
       "      <td>0</td>\n",
       "      <td>0</td>\n",
       "      <td>0</td>\n",
       "      <td>0</td>\n",
       "      <td>0</td>\n",
       "      <td>0</td>\n",
       "      <td>0</td>\n",
       "      <td>0</td>\n",
       "      <td>0</td>\n",
       "      <td>...</td>\n",
       "      <td>0</td>\n",
       "      <td>0</td>\n",
       "      <td>0</td>\n",
       "      <td>0</td>\n",
       "      <td>0</td>\n",
       "      <td>0</td>\n",
       "      <td>0</td>\n",
       "      <td>0</td>\n",
       "      <td>0</td>\n",
       "      <td>0</td>\n",
       "    </tr>\n",
       "    <tr>\n",
       "      <th>AC233755.1</th>\n",
       "      <td>0</td>\n",
       "      <td>0</td>\n",
       "      <td>0</td>\n",
       "      <td>0</td>\n",
       "      <td>0</td>\n",
       "      <td>0</td>\n",
       "      <td>0</td>\n",
       "      <td>0</td>\n",
       "      <td>0</td>\n",
       "      <td>0</td>\n",
       "      <td>...</td>\n",
       "      <td>0</td>\n",
       "      <td>0</td>\n",
       "      <td>0</td>\n",
       "      <td>0</td>\n",
       "      <td>0</td>\n",
       "      <td>0</td>\n",
       "      <td>0</td>\n",
       "      <td>0</td>\n",
       "      <td>0</td>\n",
       "      <td>0</td>\n",
       "    </tr>\n",
       "    <tr>\n",
       "      <th>AC240274.1</th>\n",
       "      <td>0</td>\n",
       "      <td>0</td>\n",
       "      <td>0</td>\n",
       "      <td>0</td>\n",
       "      <td>0</td>\n",
       "      <td>0</td>\n",
       "      <td>0</td>\n",
       "      <td>0</td>\n",
       "      <td>0</td>\n",
       "      <td>0</td>\n",
       "      <td>...</td>\n",
       "      <td>0</td>\n",
       "      <td>0</td>\n",
       "      <td>0</td>\n",
       "      <td>0</td>\n",
       "      <td>0</td>\n",
       "      <td>0</td>\n",
       "      <td>0</td>\n",
       "      <td>0</td>\n",
       "      <td>0</td>\n",
       "      <td>0</td>\n",
       "    </tr>\n",
       "    <tr>\n",
       "      <th>AC213203.1</th>\n",
       "      <td>0</td>\n",
       "      <td>0</td>\n",
       "      <td>0</td>\n",
       "      <td>0</td>\n",
       "      <td>0</td>\n",
       "      <td>0</td>\n",
       "      <td>0</td>\n",
       "      <td>0</td>\n",
       "      <td>0</td>\n",
       "      <td>0</td>\n",
       "      <td>...</td>\n",
       "      <td>0</td>\n",
       "      <td>0</td>\n",
       "      <td>0</td>\n",
       "      <td>0</td>\n",
       "      <td>0</td>\n",
       "      <td>0</td>\n",
       "      <td>0</td>\n",
       "      <td>0</td>\n",
       "      <td>0</td>\n",
       "      <td>0</td>\n",
       "    </tr>\n",
       "    <tr>\n",
       "      <th>FAM231C</th>\n",
       "      <td>0</td>\n",
       "      <td>0</td>\n",
       "      <td>0</td>\n",
       "      <td>0</td>\n",
       "      <td>0</td>\n",
       "      <td>0</td>\n",
       "      <td>0</td>\n",
       "      <td>0</td>\n",
       "      <td>0</td>\n",
       "      <td>0</td>\n",
       "      <td>...</td>\n",
       "      <td>0</td>\n",
       "      <td>0</td>\n",
       "      <td>0</td>\n",
       "      <td>0</td>\n",
       "      <td>0</td>\n",
       "      <td>0</td>\n",
       "      <td>0</td>\n",
       "      <td>0</td>\n",
       "      <td>0</td>\n",
       "      <td>0</td>\n",
       "    </tr>\n",
       "  </tbody>\n",
       "</table>\n",
       "<p>33537 rows × 83484 columns</p>\n",
       "</div>"
      ],
      "text/plain": [
       "             s.0096_AAACCCAAGTACGAGC.1  s.0096_AAACCCACACAGCGCT.1  \\\n",
       "MIR1302-2HG                          0                          0   \n",
       "FAM138A                              0                          0   \n",
       "OR4F5                                0                          0   \n",
       "AL627309.1                           0                          0   \n",
       "AL627309.3                           0                          0   \n",
       "...                                ...                        ...   \n",
       "AC233755.2                           0                          0   \n",
       "AC233755.1                           0                          0   \n",
       "AC240274.1                           0                          0   \n",
       "AC213203.1                           0                          0   \n",
       "FAM231C                              0                          0   \n",
       "\n",
       "             s.0096_AAACCCACAGATAAAC.1  s.0096_AAACCCAGTCCGGATC.1  \\\n",
       "MIR1302-2HG                          0                          0   \n",
       "FAM138A                              0                          0   \n",
       "OR4F5                                0                          0   \n",
       "AL627309.1                           0                          0   \n",
       "AL627309.3                           0                          0   \n",
       "...                                ...                        ...   \n",
       "AC233755.2                           0                          0   \n",
       "AC233755.1                           0                          0   \n",
       "AC240274.1                           0                          0   \n",
       "AC213203.1                           0                          0   \n",
       "FAM231C                              0                          0   \n",
       "\n",
       "             s.0096_AAACCCAGTCTCTCAC.1  s.0096_AAACCCAGTGAATTGA.1  \\\n",
       "MIR1302-2HG                          0                          0   \n",
       "FAM138A                              0                          0   \n",
       "OR4F5                                0                          0   \n",
       "AL627309.1                           0                          0   \n",
       "AL627309.3                           0                          0   \n",
       "...                                ...                        ...   \n",
       "AC233755.2                           0                          0   \n",
       "AC233755.1                           0                          0   \n",
       "AC240274.1                           0                          0   \n",
       "AC213203.1                           0                          0   \n",
       "FAM231C                              0                          0   \n",
       "\n",
       "             s.0096_AAACCCAGTTTACGAC.1  s.0096_AAACCCATCATGGAGG.1  \\\n",
       "MIR1302-2HG                          0                          0   \n",
       "FAM138A                              0                          0   \n",
       "OR4F5                                0                          0   \n",
       "AL627309.1                           0                          0   \n",
       "AL627309.3                           0                          0   \n",
       "...                                ...                        ...   \n",
       "AC233755.2                           0                          0   \n",
       "AC233755.1                           0                          0   \n",
       "AC240274.1                           0                          0   \n",
       "AC213203.1                           0                          0   \n",
       "FAM231C                              0                          0   \n",
       "\n",
       "             s.0096_AAACCCATCCGTGCGA.1  s.0096_AAACCCATCGCGAAGA.1  ...  \\\n",
       "MIR1302-2HG                          0                          0  ...   \n",
       "FAM138A                              0                          0  ...   \n",
       "OR4F5                                0                          0  ...   \n",
       "AL627309.1                           0                          0  ...   \n",
       "AL627309.3                           0                          0  ...   \n",
       "...                                ...                        ...  ...   \n",
       "AC233755.2                           0                          0  ...   \n",
       "AC233755.1                           0                          0  ...   \n",
       "AC240274.1                           0                          0  ...   \n",
       "AC213203.1                           0                          0  ...   \n",
       "FAM231C                              0                          0  ...   \n",
       "\n",
       "             s.0165_TTTGATCCAGAGGTTG.1  s.0165_TTTGGTTAGCGCCTTG.1  \\\n",
       "MIR1302-2HG                          0                          0   \n",
       "FAM138A                              0                          0   \n",
       "OR4F5                                0                          0   \n",
       "AL627309.1                           0                          0   \n",
       "AL627309.3                           0                          0   \n",
       "...                                ...                        ...   \n",
       "AC233755.2                           0                          0   \n",
       "AC233755.1                           0                          0   \n",
       "AC240274.1                           0                          0   \n",
       "AC213203.1                           0                          0   \n",
       "FAM231C                              0                          0   \n",
       "\n",
       "             s.0165_TTTGGTTCAAACTAAG.1  s.0165_TTTGGTTCATGCCGGT.1  \\\n",
       "MIR1302-2HG                          0                          0   \n",
       "FAM138A                              0                          0   \n",
       "OR4F5                                0                          0   \n",
       "AL627309.1                           0                          0   \n",
       "AL627309.3                           0                          0   \n",
       "...                                ...                        ...   \n",
       "AC233755.2                           0                          0   \n",
       "AC233755.1                           0                          0   \n",
       "AC240274.1                           0                          0   \n",
       "AC213203.1                           0                          0   \n",
       "FAM231C                              0                          0   \n",
       "\n",
       "             s.0165_TTTGGTTGTAGAGATT.1  s.0165_TTTGGTTTCCGCCTAT.1  \\\n",
       "MIR1302-2HG                          0                          0   \n",
       "FAM138A                              0                          0   \n",
       "OR4F5                                0                          0   \n",
       "AL627309.1                           0                          0   \n",
       "AL627309.3                           0                          0   \n",
       "...                                ...                        ...   \n",
       "AC233755.2                           0                          0   \n",
       "AC233755.1                           0                          0   \n",
       "AC240274.1                           0                          0   \n",
       "AC213203.1                           0                          0   \n",
       "FAM231C                              0                          0   \n",
       "\n",
       "             s.0165_TTTGGTTTCTCGTTTA.1  s.0165_TTTGTTGCAAGTTCGT.1  \\\n",
       "MIR1302-2HG                          0                          0   \n",
       "FAM138A                              0                          0   \n",
       "OR4F5                                0                          0   \n",
       "AL627309.1                           0                          0   \n",
       "AL627309.3                           0                          0   \n",
       "...                                ...                        ...   \n",
       "AC233755.2                           0                          0   \n",
       "AC233755.1                           0                          0   \n",
       "AC240274.1                           0                          0   \n",
       "AC213203.1                           0                          0   \n",
       "FAM231C                              0                          0   \n",
       "\n",
       "             s.0165_TTTGTTGCATGTTCAG.1  s.0165_TTTGTTGCATTACTCT.1  \n",
       "MIR1302-2HG                          0                          0  \n",
       "FAM138A                              0                          0  \n",
       "OR4F5                                0                          0  \n",
       "AL627309.1                           0                          0  \n",
       "AL627309.3                           0                          0  \n",
       "...                                ...                        ...  \n",
       "AC233755.2                           0                          0  \n",
       "AC233755.1                           0                          0  \n",
       "AC240274.1                           0                          0  \n",
       "AC213203.1                           0                          0  \n",
       "FAM231C                              0                          0  \n",
       "\n",
       "[33537 rows x 83484 columns]"
      ]
     },
     "execution_count": 9,
     "metadata": {},
     "output_type": "execute_result"
    }
   ],
   "source": [
    "ex_matrix = pd.DataFrame(m[:, 1:], columns = cell_names, index = gene_names)\n",
    "ex_matrix"
   ]
  },
  {
   "cell_type": "code",
   "execution_count": 10,
   "id": "ce400181",
   "metadata": {},
   "outputs": [
    {
     "name": "stdout",
     "output_type": "stream",
     "text": [
      "['EXOSC5', 'FKBP14', 'CREB3L1', 'ERN1', 'ATF4', 'EXOSC7', 'TSPYL2', 'EIF2AK3', 'PDIA6', 'ADD1', 'CEBPB', 'HSP90B1', 'SERP1', 'EXOSC1', 'CREBRF', 'ACADVL', 'PREB', 'SRPRA', 'EXTL2', 'EXOSC8', 'TPP1', 'GOSR2', 'ATF6', 'WIPI1', 'SULT1A3', 'CCL2', 'SEC31A', 'HYOU1', 'DNAJB11', 'PPP2R5B', 'EXTL1', 'GSK3A', 'PARN', 'ZBTB17', 'KLHDC3', 'EXOSC4', 'EIF2S2', 'DCP2', 'ATF6B', 'DIS3', 'DNAJC3', 'SYVN1', 'NFYC', 'CTDSP2', 'PLA2G4B', 'CREB3L2', 'CXXC1', 'EDEM1', 'KHSRP', 'GFPT1', 'EXOSC6', 'DNAJB9', 'CREB3L4', 'HSPA5', 'SSR1', 'TATDN2', 'PDIA5', 'YIF1A', 'CALR', 'EXOSC3', 'XBP1', 'MYDGF', 'DDIT3', 'EXOSC2', 'CUL7', 'DCSTAMP', 'EIF2S1', 'EIF2S3', 'WFS1', 'SRPRB', 'EXOSC9', 'ARFGAP1', 'EXTL3', 'CREB3', 'DCTN1', 'CREB3L3', 'KDELR3', 'LMNA', 'CXCL8', 'IGFBP1', 'HDGF', 'CEBPG', 'DDX11', 'HERPUD1', 'SHC1', 'ASNS', 'ATF3', 'MBTPS2', 'MBTPS1', 'TLN1', 'NFYB', 'ATP6V0D1', 'NFYA']\n"
     ]
    }
   ],
   "source": [
    "# Compute the intersection\n",
    "intersection = list(set(gene_names).intersection(set(data_genes)))\n",
    "print(intersection)"
   ]
  },
  {
   "cell_type": "code",
   "execution_count": 11,
   "id": "709e966d",
   "metadata": {},
   "outputs": [
    {
     "data": {
      "text/plain": [
       "93"
      ]
     },
     "execution_count": 11,
     "metadata": {},
     "output_type": "execute_result"
    }
   ],
   "source": [
    "len(intersection)"
   ]
  },
  {
   "cell_type": "code",
   "execution_count": 12,
   "id": "b90fa075-d45b-49dd-a603-bacade025704",
   "metadata": {},
   "outputs": [
    {
     "name": "stdout",
     "output_type": "stream",
     "text": [
      "[]\n"
     ]
    }
   ],
   "source": [
    "# Compute the genes that don't overlap in the other direction\n",
    "difference_reverse = list(set(data_genes).difference(set(gene_names)))\n",
    "print(difference_reverse)"
   ]
  },
  {
   "cell_type": "markdown",
   "id": "1093ea54-61e9-4767-96f6-168aa0c6deb9",
   "metadata": {},
   "source": [
    "No gene is missing from the dataset."
   ]
  },
  {
   "cell_type": "code",
   "execution_count": 13,
   "id": "a0884472",
   "metadata": {},
   "outputs": [],
   "source": [
    "# Run AUCell\n",
    "# 1. Rankings (~2mn)\n",
    "rnk_mtx = create_rankings(ex_matrix.transpose(), seed=42)"
   ]
  },
  {
   "cell_type": "code",
   "execution_count": 14,
   "id": "5244ef96",
   "metadata": {},
   "outputs": [
    {
     "data": {
      "text/html": [
       "<div>\n",
       "<style scoped>\n",
       "    .dataframe tbody tr th:only-of-type {\n",
       "        vertical-align: middle;\n",
       "    }\n",
       "\n",
       "    .dataframe tbody tr th {\n",
       "        vertical-align: top;\n",
       "    }\n",
       "\n",
       "    .dataframe thead th {\n",
       "        text-align: right;\n",
       "    }\n",
       "</style>\n",
       "<table border=\"1\" class=\"dataframe\">\n",
       "  <thead>\n",
       "    <tr style=\"text-align: right;\">\n",
       "      <th></th>\n",
       "      <th></th>\n",
       "      <th>AUC</th>\n",
       "    </tr>\n",
       "    <tr>\n",
       "      <th>Cell</th>\n",
       "      <th>Regulon</th>\n",
       "      <th></th>\n",
       "    </tr>\n",
       "  </thead>\n",
       "  <tbody>\n",
       "    <tr>\n",
       "      <th>s.0096_AAACCCAAGTACGAGC.1</th>\n",
       "      <th>REACTOME - UNFOLDED PROTEIN RESPONSE (UPR)</th>\n",
       "      <td>0.039318</td>\n",
       "    </tr>\n",
       "    <tr>\n",
       "      <th>s.0096_AAACCCACACAGCGCT.1</th>\n",
       "      <th>REACTOME - UNFOLDED PROTEIN RESPONSE (UPR)</th>\n",
       "      <td>0.029841</td>\n",
       "    </tr>\n",
       "    <tr>\n",
       "      <th>s.0096_AAACCCACAGATAAAC.1</th>\n",
       "      <th>REACTOME - UNFOLDED PROTEIN RESPONSE (UPR)</th>\n",
       "      <td>0.014863</td>\n",
       "    </tr>\n",
       "    <tr>\n",
       "      <th>s.0096_AAACCCAGTCCGGATC.1</th>\n",
       "      <th>REACTOME - UNFOLDED PROTEIN RESPONSE (UPR)</th>\n",
       "      <td>0.014369</td>\n",
       "    </tr>\n",
       "    <tr>\n",
       "      <th>s.0096_AAACCCAGTCTCTCAC.1</th>\n",
       "      <th>REACTOME - UNFOLDED PROTEIN RESPONSE (UPR)</th>\n",
       "      <td>0.012946</td>\n",
       "    </tr>\n",
       "    <tr>\n",
       "      <th>...</th>\n",
       "      <th>...</th>\n",
       "      <td>...</td>\n",
       "    </tr>\n",
       "    <tr>\n",
       "      <th>s.0165_TTTGGTTTCCGCCTAT.1</th>\n",
       "      <th>REACTOME - UNFOLDED PROTEIN RESPONSE (UPR)</th>\n",
       "      <td>0.029302</td>\n",
       "    </tr>\n",
       "    <tr>\n",
       "      <th>s.0165_TTTGGTTTCTCGTTTA.1</th>\n",
       "      <th>REACTOME - UNFOLDED PROTEIN RESPONSE (UPR)</th>\n",
       "      <td>0.032412</td>\n",
       "    </tr>\n",
       "    <tr>\n",
       "      <th>s.0165_TTTGTTGCAAGTTCGT.1</th>\n",
       "      <th>REACTOME - UNFOLDED PROTEIN RESPONSE (UPR)</th>\n",
       "      <td>0.030181</td>\n",
       "    </tr>\n",
       "    <tr>\n",
       "      <th>s.0165_TTTGTTGCATGTTCAG.1</th>\n",
       "      <th>REACTOME - UNFOLDED PROTEIN RESPONSE (UPR)</th>\n",
       "      <td>0.019088</td>\n",
       "    </tr>\n",
       "    <tr>\n",
       "      <th>s.0165_TTTGTTGCATTACTCT.1</th>\n",
       "      <th>REACTOME - UNFOLDED PROTEIN RESPONSE (UPR)</th>\n",
       "      <td>0.026955</td>\n",
       "    </tr>\n",
       "  </tbody>\n",
       "</table>\n",
       "<p>83484 rows × 1 columns</p>\n",
       "</div>"
      ],
      "text/plain": [
       "                                                                           AUC\n",
       "Cell                      Regulon                                             \n",
       "s.0096_AAACCCAAGTACGAGC.1 REACTOME - UNFOLDED PROTEIN RESPONSE (UPR)  0.039318\n",
       "s.0096_AAACCCACACAGCGCT.1 REACTOME - UNFOLDED PROTEIN RESPONSE (UPR)  0.029841\n",
       "s.0096_AAACCCACAGATAAAC.1 REACTOME - UNFOLDED PROTEIN RESPONSE (UPR)  0.014863\n",
       "s.0096_AAACCCAGTCCGGATC.1 REACTOME - UNFOLDED PROTEIN RESPONSE (UPR)  0.014369\n",
       "s.0096_AAACCCAGTCTCTCAC.1 REACTOME - UNFOLDED PROTEIN RESPONSE (UPR)  0.012946\n",
       "...                                                                        ...\n",
       "s.0165_TTTGGTTTCCGCCTAT.1 REACTOME - UNFOLDED PROTEIN RESPONSE (UPR)  0.029302\n",
       "s.0165_TTTGGTTTCTCGTTTA.1 REACTOME - UNFOLDED PROTEIN RESPONSE (UPR)  0.032412\n",
       "s.0165_TTTGTTGCAAGTTCGT.1 REACTOME - UNFOLDED PROTEIN RESPONSE (UPR)  0.030181\n",
       "s.0165_TTTGTTGCATGTTCAG.1 REACTOME - UNFOLDED PROTEIN RESPONSE (UPR)  0.019088\n",
       "s.0165_TTTGTTGCATTACTCT.1 REACTOME - UNFOLDED PROTEIN RESPONSE (UPR)  0.026955\n",
       "\n",
       "[83484 rows x 1 columns]"
      ]
     },
     "execution_count": 14,
     "metadata": {},
     "output_type": "execute_result"
    }
   ],
   "source": [
    "# 2. Enrichment (~5s)\n",
    "aucs = enrichment(rnk_mtx, gs)\n",
    "aucs"
   ]
  },
  {
   "cell_type": "code",
   "execution_count": 15,
   "id": "8a2d79f1",
   "metadata": {},
   "outputs": [
    {
     "data": {
      "text/plain": [
       "0.0"
      ]
     },
     "execution_count": 15,
     "metadata": {},
     "output_type": "execute_result"
    }
   ],
   "source": [
    "min(aucs[\"AUC\"])"
   ]
  },
  {
   "cell_type": "code",
   "execution_count": 16,
   "id": "382e224b",
   "metadata": {},
   "outputs": [
    {
     "data": {
      "text/plain": [
       "0.18932297176858318"
      ]
     },
     "execution_count": 16,
     "metadata": {},
     "output_type": "execute_result"
    }
   ],
   "source": [
    "max(aucs[\"AUC\"])"
   ]
  },
  {
   "cell_type": "code",
   "execution_count": 17,
   "id": "6aec55cb",
   "metadata": {},
   "outputs": [],
   "source": [
    "# Save DataFrame to TSV file\n",
    "aucs.to_csv(\"/data/gardeux/Neuro_Droso_ND75KD/data/Martirosyan_93_UPR_AUCell_auc.tsv\", sep='\\t', index=True)"
   ]
  }
 ],
 "metadata": {
  "kernelspec": {
   "display_name": "Python 3.11 (SCENIC+)",
   "language": "python",
   "name": "python3_11"
  },
  "language_info": {
   "codemirror_mode": {
    "name": "ipython",
    "version": 3
   },
   "file_extension": ".py",
   "mimetype": "text/x-python",
   "name": "python",
   "nbconvert_exporter": "python",
   "pygments_lexer": "ipython3",
   "version": "3.11.10"
  }
 },
 "nbformat": 4,
 "nbformat_minor": 5
}
